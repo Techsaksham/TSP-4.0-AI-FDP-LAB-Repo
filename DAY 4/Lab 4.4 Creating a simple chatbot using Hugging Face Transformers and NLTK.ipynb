{
 "cells": [
  {
   "cell_type": "code",
   "execution_count": null,
   "id": "ce56d938-7c94-4ba9-bb98-9286fa748da7",
   "metadata": {},
   "outputs": [],
   "source": []
  },
  {
   "cell_type": "markdown",
   "id": "67173a82-da90-4eb8-9870-c56673236013",
   "metadata": {},
   "source": [
    "# Lab 4.4 Creating a simple chatbot using Hugging Face Transformers and NLTK"
   ]
  },
  {
   "cell_type": "markdown",
   "id": "e5fc64d7-1e8c-4c44-9160-ba9dce5a34f3",
   "metadata": {},
   "source": [
    "To implement a simple chatbot using Hugging Face Transformers, NLTK (Natural Language Toolkit), and TextBlob, we'll create a basic conversational agent that can engage in a dialogue with users and perform some rudimentary natural language processing tasks"
   ]
  },
  {
   "cell_type": "markdown",
   "id": "36afe1d7-ee35-4c4c-b135-b9f10ef204f0",
   "metadata": {},
   "source": [
    "#### Prerequisites\n",
    "Make sure you have Python installed on your system along with the necessary libraries. You can install the required libraries using pip:\n"
   ]
  },
  {
   "cell_type": "code",
   "execution_count": null,
   "id": "68bf2881-f6ba-4e07-b604-5018c63d0355",
   "metadata": {},
   "outputs": [
    {
     "name": "stderr",
     "output_type": "stream",
     "text": [
      "[nltk_data] Downloading package punkt to C:\\Users\\RAMAR\n",
      "[nltk_data]     BOSE\\AppData\\Roaming\\nltk_data...\n",
      "[nltk_data]   Package punkt is already up-to-date!\n"
     ]
    },
    {
     "name": "stdout",
     "output_type": "stream",
     "text": [
      "Chatbot: Hi! I'm a chatbot. Type 'exit' to end the conversation.\n"
     ]
    },
    {
     "name": "stdin",
     "output_type": "stream",
     "text": [
      "You:  what is gpt2?\n"
     ]
    },
    {
     "name": "stdout",
     "output_type": "stream",
     "text": [
      "Chatbot: what is gpt2?\n",
      "\n",
      "Gpt2 is a library for generating and manipulating Gpt2 data. It is a simple wrapper around the Gpt2 library.\n",
      "\n",
      "Gpt2 is a library for generating and manipulating Gpt2\n"
     ]
    }
   ],
   "source": [
    "import nltk\n",
    "import torch\n",
    "from transformers import AutoModelForCausalLM, AutoTokenizer\n",
    "\n",
    "# Download the punkt tokenizer model from NLTK\n",
    "nltk.download('punkt')\n",
    "\n",
    "# Load pre-trained model and tokenizer\n",
    "model_name = 'gpt2'\n",
    "tokenizer = AutoTokenizer.from_pretrained(model_name)\n",
    "model = AutoModelForCausalLM.from_pretrained(model_name)\n",
    "\n",
    "def preprocess_text(text):\n",
    "    # Tokenize the text into sentences\n",
    "    sentences = nltk.sent_tokenize(text)\n",
    "    return ' '.join(sentences)\n",
    "\n",
    "def generate_response(model, tokenizer, input_text, max_length=50):\n",
    "    # Encode the input text and generate a response\n",
    "    input_ids = tokenizer.encode(input_text, return_tensors='pt')\n",
    "    with torch.no_grad():\n",
    "        output = model.generate(input_ids, max_length=max_length, pad_token_id=tokenizer.eos_token_id)\n",
    "    response = tokenizer.decode(output[0], skip_special_tokens=True)\n",
    "    return response\n",
    "\n",
    "def chatbot():\n",
    "    print(\"Chatbot: Hi! I'm a chatbot. Type 'exit' to end the conversation.\")\n",
    "    while True:\n",
    "        user_input = input(\"You: \")\n",
    "        if user_input.lower() == 'exit':\n",
    "            print(\"Chatbot: Goodbye!\")\n",
    "            break\n",
    "        \n",
    "        preprocessed_input = preprocess_text(user_input)\n",
    "        response = generate_response(model, tokenizer, preprocessed_input)\n",
    "        print(f\"Chatbot: {response}\")\n",
    "\n",
    "# Run the chatbot\n",
    "if __name__ == \"__main__\":\n",
    "    chatbot()\n"
   ]
  }
 ],
 "metadata": {
  "kernelspec": {
   "display_name": "Python 3 (ipykernel)",
   "language": "python",
   "name": "python3"
  },
  "language_info": {
   "codemirror_mode": {
    "name": "ipython",
    "version": 3
   },
   "file_extension": ".py",
   "mimetype": "text/x-python",
   "name": "python",
   "nbconvert_exporter": "python",
   "pygments_lexer": "ipython3",
   "version": "3.11.7"
  }
 },
 "nbformat": 4,
 "nbformat_minor": 5
}
