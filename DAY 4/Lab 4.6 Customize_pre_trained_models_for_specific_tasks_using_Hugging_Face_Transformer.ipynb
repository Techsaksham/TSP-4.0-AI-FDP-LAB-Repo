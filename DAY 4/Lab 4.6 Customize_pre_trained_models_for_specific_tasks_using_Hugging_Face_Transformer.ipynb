{
  "nbformat": 4,
  "nbformat_minor": 0,
  "metadata": {
    "colab": {
      "provenance": []
    },
    "kernelspec": {
      "name": "python3",
      "display_name": "Python 3"
    },
    "language_info": {
      "name": "python"
    }
  },
  "cells": [
    {
      "cell_type": "markdown",
      "source": [
        "![image.png](data:image/png;base64,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)"
      ],
      "metadata": {
        "id": "x-1pkdJJ-wj1"
      }
    },
    {
      "cell_type": "markdown",
      "source": [
        "#### 1. Install Dependencies\n",
        "Make sure you have the necessary libraries installed"
      ],
      "metadata": {
        "id": "5FvURsc3-8kT"
      }
    },
    {
      "cell_type": "code",
      "execution_count": 1,
      "metadata": {
        "colab": {
          "base_uri": "https://localhost:8080/"
        },
        "id": "j_gB0hf--unz",
        "outputId": "2bc409fb-3551-4991-d4af-d322aa632cfe"
      },
      "outputs": [
        {
          "output_type": "stream",
          "name": "stdout",
          "text": [
            "Requirement already satisfied: torch in /usr/local/lib/python3.10/dist-packages (2.3.0+cu121)\n",
            "Requirement already satisfied: transformers in /usr/local/lib/python3.10/dist-packages (4.41.2)\n",
            "Requirement already satisfied: filelock in /usr/local/lib/python3.10/dist-packages (from torch) (3.15.1)\n",
            "Requirement already satisfied: typing-extensions>=4.8.0 in /usr/local/lib/python3.10/dist-packages (from torch) (4.12.2)\n",
            "Requirement already satisfied: sympy in /usr/local/lib/python3.10/dist-packages (from torch) (1.12.1)\n",
            "Requirement already satisfied: networkx in /usr/local/lib/python3.10/dist-packages (from torch) (3.3)\n",
            "Requirement already satisfied: jinja2 in /usr/local/lib/python3.10/dist-packages (from torch) (3.1.4)\n",
            "Requirement already satisfied: fsspec in /usr/local/lib/python3.10/dist-packages (from torch) (2023.6.0)\n",
            "Collecting nvidia-cuda-nvrtc-cu12==12.1.105 (from torch)\n",
            "  Using cached nvidia_cuda_nvrtc_cu12-12.1.105-py3-none-manylinux1_x86_64.whl (23.7 MB)\n",
            "Collecting nvidia-cuda-runtime-cu12==12.1.105 (from torch)\n",
            "  Using cached nvidia_cuda_runtime_cu12-12.1.105-py3-none-manylinux1_x86_64.whl (823 kB)\n",
            "Collecting nvidia-cuda-cupti-cu12==12.1.105 (from torch)\n",
            "  Using cached nvidia_cuda_cupti_cu12-12.1.105-py3-none-manylinux1_x86_64.whl (14.1 MB)\n",
            "Collecting nvidia-cudnn-cu12==8.9.2.26 (from torch)\n",
            "  Using cached nvidia_cudnn_cu12-8.9.2.26-py3-none-manylinux1_x86_64.whl (731.7 MB)\n",
            "Collecting nvidia-cublas-cu12==12.1.3.1 (from torch)\n",
            "  Using cached nvidia_cublas_cu12-12.1.3.1-py3-none-manylinux1_x86_64.whl (410.6 MB)\n",
            "Collecting nvidia-cufft-cu12==11.0.2.54 (from torch)\n",
            "  Using cached nvidia_cufft_cu12-11.0.2.54-py3-none-manylinux1_x86_64.whl (121.6 MB)\n",
            "Collecting nvidia-curand-cu12==10.3.2.106 (from torch)\n",
            "  Using cached nvidia_curand_cu12-10.3.2.106-py3-none-manylinux1_x86_64.whl (56.5 MB)\n",
            "Collecting nvidia-cusolver-cu12==11.4.5.107 (from torch)\n",
            "  Using cached nvidia_cusolver_cu12-11.4.5.107-py3-none-manylinux1_x86_64.whl (124.2 MB)\n",
            "Collecting nvidia-cusparse-cu12==12.1.0.106 (from torch)\n",
            "  Using cached nvidia_cusparse_cu12-12.1.0.106-py3-none-manylinux1_x86_64.whl (196.0 MB)\n",
            "Collecting nvidia-nccl-cu12==2.20.5 (from torch)\n",
            "  Using cached nvidia_nccl_cu12-2.20.5-py3-none-manylinux2014_x86_64.whl (176.2 MB)\n",
            "Collecting nvidia-nvtx-cu12==12.1.105 (from torch)\n",
            "  Using cached nvidia_nvtx_cu12-12.1.105-py3-none-manylinux1_x86_64.whl (99 kB)\n",
            "Requirement already satisfied: triton==2.3.0 in /usr/local/lib/python3.10/dist-packages (from torch) (2.3.0)\n",
            "Collecting nvidia-nvjitlink-cu12 (from nvidia-cusolver-cu12==11.4.5.107->torch)\n",
            "  Downloading nvidia_nvjitlink_cu12-12.5.40-py3-none-manylinux2014_x86_64.whl (21.3 MB)\n",
            "\u001b[2K     \u001b[90m━━━━━━━━━━━━━━━━━━━━━━━━━━━━━━━━━━━━━━━━\u001b[0m \u001b[32m21.3/21.3 MB\u001b[0m \u001b[31m34.1 MB/s\u001b[0m eta \u001b[36m0:00:00\u001b[0m\n",
            "\u001b[?25hRequirement already satisfied: huggingface-hub<1.0,>=0.23.0 in /usr/local/lib/python3.10/dist-packages (from transformers) (0.23.4)\n",
            "Requirement already satisfied: numpy>=1.17 in /usr/local/lib/python3.10/dist-packages (from transformers) (1.25.2)\n",
            "Requirement already satisfied: packaging>=20.0 in /usr/local/lib/python3.10/dist-packages (from transformers) (24.1)\n",
            "Requirement already satisfied: pyyaml>=5.1 in /usr/local/lib/python3.10/dist-packages (from transformers) (6.0.1)\n",
            "Requirement already satisfied: regex!=2019.12.17 in /usr/local/lib/python3.10/dist-packages (from transformers) (2024.5.15)\n",
            "Requirement already satisfied: requests in /usr/local/lib/python3.10/dist-packages (from transformers) (2.31.0)\n",
            "Requirement already satisfied: tokenizers<0.20,>=0.19 in /usr/local/lib/python3.10/dist-packages (from transformers) (0.19.1)\n",
            "Requirement already satisfied: safetensors>=0.4.1 in /usr/local/lib/python3.10/dist-packages (from transformers) (0.4.3)\n",
            "Requirement already satisfied: tqdm>=4.27 in /usr/local/lib/python3.10/dist-packages (from transformers) (4.66.4)\n",
            "Requirement already satisfied: MarkupSafe>=2.0 in /usr/local/lib/python3.10/dist-packages (from jinja2->torch) (2.1.5)\n",
            "Requirement already satisfied: charset-normalizer<4,>=2 in /usr/local/lib/python3.10/dist-packages (from requests->transformers) (3.3.2)\n",
            "Requirement already satisfied: idna<4,>=2.5 in /usr/local/lib/python3.10/dist-packages (from requests->transformers) (3.7)\n",
            "Requirement already satisfied: urllib3<3,>=1.21.1 in /usr/local/lib/python3.10/dist-packages (from requests->transformers) (2.0.7)\n",
            "Requirement already satisfied: certifi>=2017.4.17 in /usr/local/lib/python3.10/dist-packages (from requests->transformers) (2024.6.2)\n",
            "Requirement already satisfied: mpmath<1.4.0,>=1.1.0 in /usr/local/lib/python3.10/dist-packages (from sympy->torch) (1.3.0)\n",
            "Installing collected packages: nvidia-nvtx-cu12, nvidia-nvjitlink-cu12, nvidia-nccl-cu12, nvidia-curand-cu12, nvidia-cufft-cu12, nvidia-cuda-runtime-cu12, nvidia-cuda-nvrtc-cu12, nvidia-cuda-cupti-cu12, nvidia-cublas-cu12, nvidia-cusparse-cu12, nvidia-cudnn-cu12, nvidia-cusolver-cu12\n",
            "Successfully installed nvidia-cublas-cu12-12.1.3.1 nvidia-cuda-cupti-cu12-12.1.105 nvidia-cuda-nvrtc-cu12-12.1.105 nvidia-cuda-runtime-cu12-12.1.105 nvidia-cudnn-cu12-8.9.2.26 nvidia-cufft-cu12-11.0.2.54 nvidia-curand-cu12-10.3.2.106 nvidia-cusolver-cu12-11.4.5.107 nvidia-cusparse-cu12-12.1.0.106 nvidia-nccl-cu12-2.20.5 nvidia-nvjitlink-cu12-12.5.40 nvidia-nvtx-cu12-12.1.105\n"
          ]
        }
      ],
      "source": [
        "pip install torch transformers\n"
      ]
    },
    {
      "cell_type": "markdown",
      "source": [
        "#### 2. Load Pretrained Model and Tokenizer\n",
        "Import the required libraries and load the pretrained BERT model and tokenizer"
      ],
      "metadata": {
        "id": "ya7Fbtlr_A1b"
      }
    },
    {
      "cell_type": "code",
      "source": [
        "from transformers import BertTokenizer, BertForSequenceClassification, Trainer, TrainingArguments\n",
        "import torch\n",
        "\n",
        "# Load pretrained BERT model and tokenizer\n",
        "tokenizer = BertTokenizer.from_pretrained('bert-base-uncased')\n",
        "model = BertForSequenceClassification.from_pretrained('bert-base-uncased')\n"
      ],
      "metadata": {
        "id": "9r4e2skW_AQ0"
      },
      "execution_count": null,
      "outputs": []
    },
    {
      "cell_type": "markdown",
      "source": [
        "#### 3. Prepare the Dataset\n",
        "Prepare a dataset suitable for text classification. For this example, we'll create a small dataset:"
      ],
      "metadata": {
        "id": "XCCClLpp_Fij"
      }
    },
    {
      "cell_type": "code",
      "source": [
        "# Example dataset for sentiment analysis\n",
        "train_texts = [\"This movie is great!\", \"I disliked the food.\", \"The weather is lovely today.\"]\n",
        "train_labels = [1, 0, 1]  # 1 for positive sentiment, 0 for negative sentiment\n"
      ],
      "metadata": {
        "id": "0y-rnY7g_ECG"
      },
      "execution_count": null,
      "outputs": []
    },
    {
      "cell_type": "markdown",
      "source": [
        "#### 4. Tokenization and Data Processing\n",
        "Tokenize the dataset using the BERT tokenizer and convert it into a format suitable for training"
      ],
      "metadata": {
        "id": "A3gs4Vgr_JdS"
      }
    },
    {
      "cell_type": "code",
      "source": [
        "# Tokenize input texts\n",
        "train_encodings = tokenizer(train_texts, truncation=True, padding=True)\n",
        "\n",
        "# Convert labels to PyTorch tensors\n",
        "train_labels = torch.tensor(train_labels)\n"
      ],
      "metadata": {
        "id": "7HtOmxn3_L0z"
      },
      "execution_count": null,
      "outputs": []
    },
    {
      "cell_type": "markdown",
      "source": [
        "#### 5. Fine-Tuning Setup\n",
        "Set up training arguments and initialize the Trainer object"
      ],
      "metadata": {
        "id": "5av4ksN9_NNC"
      }
    },
    {
      "cell_type": "code",
      "source": [
        "# Define training arguments\n",
        "training_args = TrainingArguments(\n",
        "    per_device_train_batch_size=4,\n",
        "    num_train_epochs=3,\n",
        "    logging_dir='./logs',\n",
        "    logging_steps=100,\n",
        "    save_steps=500,\n",
        "    overwrite_output_dir=True,\n",
        ")\n",
        "\n",
        "# Define Trainer object\n",
        "trainer = Trainer(\n",
        "    model=model,\n",
        "    args=training_args,\n",
        "    train_dataset=train_encodings,\n",
        "    eval_dataset=train_encodings,  # Using the same dataset for evaluation for simplicity\n",
        ")\n"
      ],
      "metadata": {
        "id": "Co7x8Aoc_Px6"
      },
      "execution_count": null,
      "outputs": []
    },
    {
      "cell_type": "markdown",
      "source": [
        "#### 6. Start Fine-Tuning\n",
        "Begin fine-tuning the model on the task-specific dataset"
      ],
      "metadata": {
        "id": "RIpWQsKA_RYq"
      }
    },
    {
      "cell_type": "code",
      "source": [
        "# Start fine-tuning\n",
        "trainer.train()\n"
      ],
      "metadata": {
        "id": "nlvQGtOp_VHr"
      },
      "execution_count": null,
      "outputs": []
    },
    {
      "cell_type": "markdown",
      "source": [
        "#### 7. Evaluate and Save the Fine-Tuned Model\n",
        "Evaluate the fine-tuned model on the training dataset and save it for future use"
      ],
      "metadata": {
        "id": "FXwzJLij_Wxs"
      }
    },
    {
      "cell_type": "code",
      "source": [
        "# Evaluate the fine-tuned model\n",
        "eval_results = trainer.evaluate()\n",
        "\n",
        "# Save the fine-tuned model and tokenizer\n",
        "model_path = \"./fine_tuned_bert\"\n",
        "model.save_pretrained(model_path)\n",
        "tokenizer.save_pretrained(model_path)\n"
      ],
      "metadata": {
        "id": "Yfzkb9aH_bSc"
      },
      "execution_count": null,
      "outputs": []
    },
    {
      "cell_type": "markdown",
      "source": [
        "#### 8. Inference\n",
        "Load the fine-tuned model and tokenizer for inference on new data"
      ],
      "metadata": {
        "id": "p3R4x7AG_fFy"
      }
    },
    {
      "cell_type": "code",
      "source": [
        "# Example of loading the fine-tuned model for inference\n",
        "from transformers import BertForSequenceClassification, BertTokenizer\n",
        "import torch\n",
        "\n",
        "# Load fine-tuned model and tokenizer\n",
        "model_path = \"./fine_tuned_bert\"\n",
        "tokenizer = BertTokenizer.from_pretrained(model_path)\n",
        "model = BertForSequenceClassification.from_pretrained(model_path)\n",
        "\n",
        "# Example inference\n",
        "text = \"I loved the movie!\"\n",
        "inputs = tokenizer(text, return_tensors='pt')\n",
        "outputs = model(**inputs)\n",
        "predicted_class = torch.argmax(outputs.logits, dim=1).item()\n",
        "\n",
        "# Map predicted class to sentiment label\n",
        "sentiment_label = \"positive\" if predicted_class == 1 else \"negative\"\n",
        "\n",
        "print(f\"Text: {text}\")\n",
        "print(f\"Predicted Sentiment: {sentiment_label}\")\n"
      ],
      "metadata": {
        "id": "GbLvT1tq_gZh"
      },
      "execution_count": null,
      "outputs": []
    }
  ]
}