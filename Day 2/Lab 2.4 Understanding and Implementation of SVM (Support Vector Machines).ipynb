{
 "cells": [
  {
   "attachments": {
    "80e5e034-2c9a-405d-99ca-d63e51df7b88.png": {
     "image/png": "[encoded data removed]"
    }
   },
   "cell_type": "markdown",
   "metadata": {},
   "source": [
    "![image.png](attachment:80e5e034-2c9a-405d-99ca-d63e51df7b88.png) "
   ]
  },
  {
   "cell_type": "markdown",
   "metadata": {},
   "source": [
    "# Lab 2.4\tUnderstanding and Implementation of SVM (Support Vector Machines)\r\n",
    "\r\n",
    "\n",
    "\n",
    "One of the classic public datasets used to demonstrate binary classification is the [Titanic dataset](https://www.kaggle.com/c/titanic), which lists 891 of the the passengers aboard the RMS Titanic when it sank on April 15, 1912. The dataset includes the name of each passenger as well as other information such as the fare class, the fare price, the person's age and gender, and whether that person survived the sinking of the ship. In this example, we will build a binary-classification model that predicts whether a passenger will survive. We will use a Support Vector Machine (SVM) classifier as the basis for the model.\n"
   ]
  },
  {
   "cell_type": "markdown",
   "metadata": {},
   "source": [
    "## Load and prepare the dataset\n",
    "\n",
    "The first step is to load the dataset and prepare it for training a machine-learning model. One of the reasons the Titanic dataset is popular is that it provides ample opportunity for data scientists to practice their data-cleaning skills."
   ]
  },
  {
   "cell_type": "code",
   "execution_count": 1,
   "metadata": {},
   "outputs": [
    {
     "data": {
      "text/html": [
       "<div>\n",
       "<style scoped>\n",
       "    .dataframe tbody tr th:only-of-type {\n",
       "        vertical-align: middle;\n",
       "    }\n",
       "\n",
       "    .dataframe tbody tr th {\n",
       "        vertical-align: top;\n",
       "    }\n",
       "\n",
       "    .dataframe thead th {\n",
       "        text-align: right;\n",
       "    }\n",
       "</style>\n",
       "<table border=\"1\" class=\"dataframe\">\n",
       "  <thead>\n",
       "    <tr style=\"text-align: right;\">\n",
       "      <th></th>\n",
       "      <th>PassengerId</th>\n",
       "      <th>Survived</th>\n",
       "      <th>Pclass</th>\n",
       "      <th>Name</th>\n",
       "      <th>Sex</th>\n",
       "      <th>Age</th>\n",
       "      <th>SibSp</th>\n",
       "      <th>Parch</th>\n",
       "      <th>Ticket</th>\n",
       "      <th>Fare</th>\n",
       "      <th>Cabin</th>\n",
       "      <th>Embarked</th>\n",
       "    </tr>\n",
       "  </thead>\n",
       "  <tbody>\n",
       "    <tr>\n",
       "      <th>0</th>\n",
       "      <td>1</td>\n",
       "      <td>0</td>\n",
       "      <td>3</td>\n",
       "      <td>Braund, Mr. Owen Harris</td>\n",
       "      <td>male</td>\n",
       "      <td>22.0</td>\n",
       "      <td>1</td>\n",
       "      <td>0</td>\n",
       "      <td>A/5 21171</td>\n",
       "      <td>7.2500</td>\n",
       "      <td>NaN</td>\n",
       "      <td>S</td>\n",
       "    </tr>\n",
       "    <tr>\n",
       "      <th>1</th>\n",
       "      <td>2</td>\n",
       "      <td>1</td>\n",
       "      <td>1</td>\n",
       "      <td>Cumings, Mrs. John Bradley (Florence Briggs Th...</td>\n",
       "      <td>female</td>\n",
       "      <td>38.0</td>\n",
       "      <td>1</td>\n",
       "      <td>0</td>\n",
       "      <td>PC 17599</td>\n",
       "      <td>71.2833</td>\n",
       "      <td>C85</td>\n",
       "      <td>C</td>\n",
       "    </tr>\n",
       "    <tr>\n",
       "      <th>2</th>\n",
       "      <td>3</td>\n",
       "      <td>1</td>\n",
       "      <td>3</td>\n",
       "      <td>Heikkinen, Miss. Laina</td>\n",
       "      <td>female</td>\n",
       "      <td>26.0</td>\n",
       "      <td>0</td>\n",
       "      <td>0</td>\n",
       "      <td>STON/O2. 3101282</td>\n",
       "      <td>7.9250</td>\n",
       "      <td>NaN</td>\n",
       "      <td>S</td>\n",
       "    </tr>\n",
       "    <tr>\n",
       "      <th>3</th>\n",
       "      <td>4</td>\n",
       "      <td>1</td>\n",
       "      <td>1</td>\n",
       "      <td>Futrelle, Mrs. Jacques Heath (Lily May Peel)</td>\n",
       "      <td>female</td>\n",
       "      <td>35.0</td>\n",
       "      <td>1</td>\n",
       "      <td>0</td>\n",
       "      <td>113803</td>\n",
       "      <td>53.1000</td>\n",
       "      <td>C123</td>\n",
       "      <td>S</td>\n",
       "    </tr>\n",
       "    <tr>\n",
       "      <th>4</th>\n",
       "      <td>5</td>\n",
       "      <td>0</td>\n",
       "      <td>3</td>\n",
       "      <td>Allen, Mr. William Henry</td>\n",
       "      <td>male</td>\n",
       "      <td>35.0</td>\n",
       "      <td>0</td>\n",
       "      <td>0</td>\n",
       "      <td>373450</td>\n",
       "      <td>8.0500</td>\n",
       "      <td>NaN</td>\n",
       "      <td>S</td>\n",
       "    </tr>\n",
       "  </tbody>\n",
       "</table>\n",
       "</div>"
      ],
      "text/plain": [
       "   PassengerId  Survived  Pclass  \\\n",
       "0            1         0       3   \n",
       "1            2         1       1   \n",
       "2            3         1       3   \n",
       "3            4         1       1   \n",
       "4            5         0       3   \n",
       "\n",
       "                                                Name     Sex   Age  SibSp  \\\n",
       "0                            Braund, Mr. Owen Harris    male  22.0      1   \n",
       "1  Cumings, Mrs. John Bradley (Florence Briggs Th...  female  38.0      1   \n",
       "2                             Heikkinen, Miss. Laina  female  26.0      0   \n",
       "3       Futrelle, Mrs. Jacques Heath (Lily May Peel)  female  35.0      1   \n",
       "4                           Allen, Mr. William Henry    male  35.0      0   \n",
       "\n",
       "   Parch            Ticket     Fare Cabin Embarked  \n",
       "0      0         A/5 21171   7.2500   NaN        S  \n",
       "1      0          PC 17599  71.2833   C85        C  \n",
       "2      0  STON/O2. 3101282   7.9250   NaN        S  \n",
       "3      0            113803  53.1000  C123        S  \n",
       "4      0            373450   8.0500   NaN        S  "
      ]
     },
     "execution_count": 1,
     "metadata": {},
     "output_type": "execute_result"
    }
   ],
   "source": [
    "import pandas as pd\n",
    "\n",
    "df = pd.read_csv('Dataset/titanic.csv')\n",
    "df.head()"
   ]
  },
  {
   "cell_type": "markdown",
   "metadata": {},
   "source": [
    "Determine whether any of the columns in the dataset are missing values."
   ]
  },
  {
   "cell_type": "code",
   "execution_count": 2,
   "metadata": {},
   "outputs": [
    {
     "name": "stdout",
     "output_type": "stream",
     "text": [
      "<class 'pandas.core.frame.DataFrame'>\n",
      "RangeIndex: 891 entries, 0 to 890\n",
      "Data columns (total 12 columns):\n",
      " #   Column       Non-Null Count  Dtype  \n",
      "---  ------       --------------  -----  \n",
      " 0   PassengerId  891 non-null    int64  \n",
      " 1   Survived     891 non-null    int64  \n",
      " 2   Pclass       891 non-null    int64  \n",
      " 3   Name         891 non-null    object \n",
      " 4   Sex          891 non-null    object \n",
      " 5   Age          714 non-null    float64\n",
      " 6   SibSp        891 non-null    int64  \n",
      " 7   Parch        891 non-null    int64  \n",
      " 8   Ticket       891 non-null    object \n",
      " 9   Fare         891 non-null    float64\n",
      " 10  Cabin        204 non-null    object \n",
      " 11  Embarked     889 non-null    object \n",
      "dtypes: float64(2), int64(5), object(5)\n",
      "memory usage: 83.7+ KB\n"
     ]
    }
   ],
   "source": [
    "df.info()"
   ]
  },
  {
   "cell_type": "markdown",
   "metadata": {},
   "source": [
    "Filter the dataset to remove columns that won't be used, one-hot-encode the \"Sex\" and \"Pclass\" columns, and remove rows with missing values."
   ]
  },
  {
   "cell_type": "code",
   "execution_count": 3,
   "metadata": {},
   "outputs": [
    {
     "data": {
      "text/html": [
       "<div>\n",
       "<style scoped>\n",
       "    .dataframe tbody tr th:only-of-type {\n",
       "        vertical-align: middle;\n",
       "    }\n",
       "\n",
       "    .dataframe tbody tr th {\n",
       "        vertical-align: top;\n",
       "    }\n",
       "\n",
       "    .dataframe thead th {\n",
       "        text-align: right;\n",
       "    }\n",
       "</style>\n",
       "<table border=\"1\" class=\"dataframe\">\n",
       "  <thead>\n",
       "    <tr style=\"text-align: right;\">\n",
       "      <th></th>\n",
       "      <th>Survived</th>\n",
       "      <th>Age</th>\n",
       "      <th>Sex_female</th>\n",
       "      <th>Sex_male</th>\n",
       "      <th>Pclass_1</th>\n",
       "      <th>Pclass_2</th>\n",
       "      <th>Pclass_3</th>\n",
       "    </tr>\n",
       "  </thead>\n",
       "  <tbody>\n",
       "    <tr>\n",
       "      <th>0</th>\n",
       "      <td>0</td>\n",
       "      <td>22.0</td>\n",
       "      <td>0</td>\n",
       "      <td>1</td>\n",
       "      <td>0</td>\n",
       "      <td>0</td>\n",
       "      <td>1</td>\n",
       "    </tr>\n",
       "    <tr>\n",
       "      <th>1</th>\n",
       "      <td>1</td>\n",
       "      <td>38.0</td>\n",
       "      <td>1</td>\n",
       "      <td>0</td>\n",
       "      <td>1</td>\n",
       "      <td>0</td>\n",
       "      <td>0</td>\n",
       "    </tr>\n",
       "    <tr>\n",
       "      <th>2</th>\n",
       "      <td>1</td>\n",
       "      <td>26.0</td>\n",
       "      <td>1</td>\n",
       "      <td>0</td>\n",
       "      <td>0</td>\n",
       "      <td>0</td>\n",
       "      <td>1</td>\n",
       "    </tr>\n",
       "    <tr>\n",
       "      <th>3</th>\n",
       "      <td>1</td>\n",
       "      <td>35.0</td>\n",
       "      <td>1</td>\n",
       "      <td>0</td>\n",
       "      <td>1</td>\n",
       "      <td>0</td>\n",
       "      <td>0</td>\n",
       "    </tr>\n",
       "    <tr>\n",
       "      <th>4</th>\n",
       "      <td>0</td>\n",
       "      <td>35.0</td>\n",
       "      <td>0</td>\n",
       "      <td>1</td>\n",
       "      <td>0</td>\n",
       "      <td>0</td>\n",
       "      <td>1</td>\n",
       "    </tr>\n",
       "  </tbody>\n",
       "</table>\n",
       "</div>"
      ],
      "text/plain": [
       "   Survived   Age  Sex_female  Sex_male  Pclass_1  Pclass_2  Pclass_3\n",
       "0         0  22.0           0         1         0         0         1\n",
       "1         1  38.0           1         0         1         0         0\n",
       "2         1  26.0           1         0         0         0         1\n",
       "3         1  35.0           1         0         1         0         0\n",
       "4         0  35.0           0         1         0         0         1"
      ]
     },
     "execution_count": 3,
     "metadata": {},
     "output_type": "execute_result"
    }
   ],
   "source": [
    "df = df[['Survived', 'Age', 'Sex', 'Pclass']]\n",
    "df = pd.get_dummies(df, columns=['Sex', 'Pclass'])\n",
    "df.dropna(inplace=True)\n",
    "df.head()"
   ]
  },
  {
   "cell_type": "markdown",
   "metadata": {},
   "source": [
    "The next step is to split the data into two datasets: one for training and one for testing. We'll use a stratified split to create a balanced distribution of samples in the training dataset and the testing dataset."
   ]
  },
  {
   "cell_type": "code",
   "execution_count": 4,
   "metadata": {},
   "outputs": [],
   "source": [
    "from sklearn.model_selection import train_test_split\n",
    "\n",
    "x = df.drop('Survived', axis=1)\n",
    "y = df['Survived']\n",
    "\n",
    "x_train, x_test, y_train, y_test = train_test_split(x, y, test_size=0.2, stratify=y, random_state=0)"
   ]
  },
  {
   "cell_type": "markdown",
   "metadata": {},
   "source": [
    "## Build and train an SVM model\n",
    "\n",
    "Support-vector classifiers (classifiiers that use Support Vector Machines, or SVMs) frequently do better at fitting data than classifiers that rely on logistic regression. Let's try a support-vector classifier on the same dataset and see if it fares better. By default, scikit's `SVC` class does not provide probabilities, but we can ask it to do so by setting its `probability` parameter to `True`. Doing so increases training time, but that's not a big deal here since the dataset is relatively small."
   ]
  },
  {
   "cell_type": "code",
   "execution_count": 5,
   "metadata": {},
   "outputs": [
    {
     "data": {
      "text/plain": [
       "SVC(probability=True, random_state=0)"
      ]
     },
     "execution_count": 5,
     "metadata": {},
     "output_type": "execute_result"
    }
   ],
   "source": [
    "from sklearn.svm import SVC\n",
    "\n",
    "model = SVC(probability=True, random_state=0)\n",
    "model.fit(x_train, y_train)"
   ]
  },
  {
   "cell_type": "markdown",
   "metadata": {},
   "source": [
    "Get an accuracy score."
   ]
  },
  {
   "cell_type": "code",
   "execution_count": 6,
   "metadata": {},
   "outputs": [
    {
     "data": {
      "text/plain": [
       "0.5944055944055944"
      ]
     },
     "execution_count": 6,
     "metadata": {},
     "output_type": "execute_result"
    }
   ],
   "source": [
    "model.score(x_test, y_test)"
   ]
  },
  {
   "cell_type": "markdown",
   "metadata": {},
   "source": [
    "Try a linear kernel and see if the model fares better."
   ]
  },
  {
   "cell_type": "code",
   "execution_count": 7,
   "metadata": {},
   "outputs": [
    {
     "data": {
      "text/plain": [
       "0.8321678321678322"
      ]
     },
     "execution_count": 7,
     "metadata": {},
     "output_type": "execute_result"
    }
   ],
   "source": [
    "model = SVC(kernel='linear', probability=True, random_state=0)\n",
    "model.fit(x_train, y_train)\n",
    "model.score(x_test, y_test)"
   ]
  },
  {
   "cell_type": "markdown",
   "metadata": {},
   "source": [
    "Cross-validate the model using five folds."
   ]
  },
  {
   "cell_type": "code",
   "execution_count": 8,
   "metadata": {},
   "outputs": [
    {
     "name": "stdout",
     "output_type": "stream",
     "text": [
      "0.7801339505564858\n"
     ]
    }
   ],
   "source": [
    "from sklearn.model_selection import cross_validate\n",
    "\n",
    "scores = cross_validate(model, x, y, cv=5)\n",
    "print(scores['test_score'].mean())"
   ]
  },
  {
   "cell_type": "markdown",
   "metadata": {},
   "source": [
    "## Optimize the model (tune hyperparameters)\n",
    "\n",
    "We achieved a cross-validated score of 78% using a linear kernel, but we might be able to do better by trying other kernels with a variety of `C` and `gamma` values. Let's use `GridSearchCV` to see if we can improve the model. We'll start with `C` and `gamma` values that range from 0.1 to 10 with three different kernel types."
   ]
  },
  {
   "cell_type": "code",
   "execution_count": 9,
   "metadata": {
    "scrolled": true
   },
   "outputs": [
    {
     "name": "stdout",
     "output_type": "stream",
     "text": [
      "Fitting 5 folds for each of 75 candidates, totalling 375 fits\n",
      "[CV] END ....................C=0.1, gamma=0.1, kernel=linear; total time=   0.0s\n",
      "[CV] END ....................C=0.1, gamma=0.1, kernel=linear; total time=   0.0s\n",
      "[CV] END ....................C=0.1, gamma=0.1, kernel=linear; total time=   0.0s\n",
      "[CV] END ....................C=0.1, gamma=0.1, kernel=linear; total time=   0.0s\n",
      "[CV] END ....................C=0.1, gamma=0.1, kernel=linear; total time=   0.0s\n",
      "[CV] END .......................C=0.1, gamma=0.1, kernel=rbf; total time=   0.0s\n",
      "[CV] END .......................C=0.1, gamma=0.1, kernel=rbf; total time=   0.0s\n",
      "[CV] END .......................C=0.1, gamma=0.1, kernel=rbf; total time=   0.0s\n",
      "[CV] END .......................C=0.1, gamma=0.1, kernel=rbf; total time=   0.0s\n",
      "[CV] END .......................C=0.1, gamma=0.1, kernel=rbf; total time=   0.0s\n",
      "[CV] END ...................C=0.1, gamma=0.1, kernel=sigmoid; total time=   0.0s\n",
      "[CV] END ...................C=0.1, gamma=0.1, kernel=sigmoid; total time=   0.0s\n",
      "[CV] END ...................C=0.1, gamma=0.1, kernel=sigmoid; total time=   0.0s\n",
      "[CV] END ...................C=0.1, gamma=0.1, kernel=sigmoid; total time=   0.0s\n",
      "[CV] END ...................C=0.1, gamma=0.1, kernel=sigmoid; total time=   0.0s\n",
      "[CV] END ....................C=0.1, gamma=0.5, kernel=linear; total time=   0.0s\n",
      "[CV] END ....................C=0.1, gamma=0.5, kernel=linear; total time=   0.0s\n",
      "[CV] END ....................C=0.1, gamma=0.5, kernel=linear; total time=   0.0s\n",
      "[CV] END ....................C=0.1, gamma=0.5, kernel=linear; total time=   0.0s\n",
      "[CV] END ....................C=0.1, gamma=0.5, kernel=linear; total time=   0.0s\n",
      "[CV] END .......................C=0.1, gamma=0.5, kernel=rbf; total time=   0.0s\n",
      "[CV] END .......................C=0.1, gamma=0.5, kernel=rbf; total time=   0.0s\n",
      "[CV] END .......................C=0.1, gamma=0.5, kernel=rbf; total time=   0.0s\n",
      "[CV] END .......................C=0.1, gamma=0.5, kernel=rbf; total time=   0.0s\n",
      "[CV] END .......................C=0.1, gamma=0.5, kernel=rbf; total time=   0.0s\n",
      "[CV] END ...................C=0.1, gamma=0.5, kernel=sigmoid; total time=   0.0s\n",
      "[CV] END ...................C=0.1, gamma=0.5, kernel=sigmoid; total time=   0.0s\n",
      "[CV] END ...................C=0.1, gamma=0.5, kernel=sigmoid; total time=   0.0s\n",
      "[CV] END ...................C=0.1, gamma=0.5, kernel=sigmoid; total time=   0.0s\n",
      "[CV] END ...................C=0.1, gamma=0.5, kernel=sigmoid; total time=   0.0s\n",
      "[CV] END ......................C=0.1, gamma=1, kernel=linear; total time=   0.0s\n",
      "[CV] END ......................C=0.1, gamma=1, kernel=linear; total time=   0.0s\n",
      "[CV] END ......................C=0.1, gamma=1, kernel=linear; total time=   0.0s\n",
      "[CV] END ......................C=0.1, gamma=1, kernel=linear; total time=   0.0s\n",
      "[CV] END ......................C=0.1, gamma=1, kernel=linear; total time=   0.0s\n",
      "[CV] END .........................C=0.1, gamma=1, kernel=rbf; total time=   0.0s\n",
      "[CV] END .........................C=0.1, gamma=1, kernel=rbf; total time=   0.0s\n",
      "[CV] END .........................C=0.1, gamma=1, kernel=rbf; total time=   0.0s\n",
      "[CV] END .........................C=0.1, gamma=1, kernel=rbf; total time=   0.0s\n",
      "[CV] END .........................C=0.1, gamma=1, kernel=rbf; total time=   0.0s\n",
      "[CV] END .....................C=0.1, gamma=1, kernel=sigmoid; total time=   0.0s\n",
      "[CV] END .....................C=0.1, gamma=1, kernel=sigmoid; total time=   0.0s\n",
      "[CV] END .....................C=0.1, gamma=1, kernel=sigmoid; total time=   0.0s\n",
      "[CV] END .....................C=0.1, gamma=1, kernel=sigmoid; total time=   0.0s\n",
      "[CV] END .....................C=0.1, gamma=1, kernel=sigmoid; total time=   0.0s\n",
      "[CV] END ......................C=0.1, gamma=5, kernel=linear; total time=   0.0s\n",
      "[CV] END ......................C=0.1, gamma=5, kernel=linear; total time=   0.0s\n",
      "[CV] END ......................C=0.1, gamma=5, kernel=linear; total time=   0.0s\n",
      "[CV] END ......................C=0.1, gamma=5, kernel=linear; total time=   0.0s\n",
      "[CV] END ......................C=0.1, gamma=5, kernel=linear; total time=   0.0s\n",
      "[CV] END .........................C=0.1, gamma=5, kernel=rbf; total time=   0.0s\n",
      "[CV] END .........................C=0.1, gamma=5, kernel=rbf; total time=   0.0s\n",
      "[CV] END .........................C=0.1, gamma=5, kernel=rbf; total time=   0.0s\n",
      "[CV] END .........................C=0.1, gamma=5, kernel=rbf; total time=   0.0s\n",
      "[CV] END .........................C=0.1, gamma=5, kernel=rbf; total time=   0.0s\n",
      "[CV] END .....................C=0.1, gamma=5, kernel=sigmoid; total time=   0.0s\n",
      "[CV] END .....................C=0.1, gamma=5, kernel=sigmoid; total time=   0.0s\n",
      "[CV] END .....................C=0.1, gamma=5, kernel=sigmoid; total time=   0.0s\n",
      "[CV] END .....................C=0.1, gamma=5, kernel=sigmoid; total time=   0.0s\n",
      "[CV] END .....................C=0.1, gamma=5, kernel=sigmoid; total time=   0.0s\n",
      "[CV] END .....................C=0.1, gamma=10, kernel=linear; total time=   0.0s\n",
      "[CV] END .....................C=0.1, gamma=10, kernel=linear; total time=   0.0s\n",
      "[CV] END .....................C=0.1, gamma=10, kernel=linear; total time=   0.0s\n",
      "[CV] END .....................C=0.1, gamma=10, kernel=linear; total time=   0.0s\n",
      "[CV] END .....................C=0.1, gamma=10, kernel=linear; total time=   0.0s\n",
      "[CV] END ........................C=0.1, gamma=10, kernel=rbf; total time=   0.0s\n",
      "[CV] END ........................C=0.1, gamma=10, kernel=rbf; total time=   0.0s\n",
      "[CV] END ........................C=0.1, gamma=10, kernel=rbf; total time=   0.0s\n",
      "[CV] END ........................C=0.1, gamma=10, kernel=rbf; total time=   0.0s\n",
      "[CV] END ........................C=0.1, gamma=10, kernel=rbf; total time=   0.0s\n",
      "[CV] END ....................C=0.1, gamma=10, kernel=sigmoid; total time=   0.0s\n",
      "[CV] END ....................C=0.1, gamma=10, kernel=sigmoid; total time=   0.0s\n",
      "[CV] END ....................C=0.1, gamma=10, kernel=sigmoid; total time=   0.0s\n",
      "[CV] END ....................C=0.1, gamma=10, kernel=sigmoid; total time=   0.0s\n",
      "[CV] END ....................C=0.1, gamma=10, kernel=sigmoid; total time=   0.0s\n",
      "[CV] END ....................C=0.5, gamma=0.1, kernel=linear; total time=   0.0s\n",
      "[CV] END ....................C=0.5, gamma=0.1, kernel=linear; total time=   0.0s\n",
      "[CV] END ....................C=0.5, gamma=0.1, kernel=linear; total time=   0.0s\n",
      "[CV] END ....................C=0.5, gamma=0.1, kernel=linear; total time=   0.0s\n",
      "[CV] END ....................C=0.5, gamma=0.1, kernel=linear; total time=   0.0s\n",
      "[CV] END .......................C=0.5, gamma=0.1, kernel=rbf; total time=   0.0s\n",
      "[CV] END .......................C=0.5, gamma=0.1, kernel=rbf; total time=   0.0s\n",
      "[CV] END .......................C=0.5, gamma=0.1, kernel=rbf; total time=   0.0s\n",
      "[CV] END .......................C=0.5, gamma=0.1, kernel=rbf; total time=   0.0s\n",
      "[CV] END .......................C=0.5, gamma=0.1, kernel=rbf; total time=   0.0s\n",
      "[CV] END ...................C=0.5, gamma=0.1, kernel=sigmoid; total time=   0.0s\n",
      "[CV] END ...................C=0.5, gamma=0.1, kernel=sigmoid; total time=   0.0s\n",
      "[CV] END ...................C=0.5, gamma=0.1, kernel=sigmoid; total time=   0.0s\n",
      "[CV] END ...................C=0.5, gamma=0.1, kernel=sigmoid; total time=   0.0s\n",
      "[CV] END ...................C=0.5, gamma=0.1, kernel=sigmoid; total time=   0.0s\n",
      "[CV] END ....................C=0.5, gamma=0.5, kernel=linear; total time=   0.0s\n",
      "[CV] END ....................C=0.5, gamma=0.5, kernel=linear; total time=   0.0s\n",
      "[CV] END ....................C=0.5, gamma=0.5, kernel=linear; total time=   0.0s\n",
      "[CV] END ....................C=0.5, gamma=0.5, kernel=linear; total time=   0.0s\n",
      "[CV] END ....................C=0.5, gamma=0.5, kernel=linear; total time=   0.0s\n",
      "[CV] END .......................C=0.5, gamma=0.5, kernel=rbf; total time=   0.0s\n",
      "[CV] END .......................C=0.5, gamma=0.5, kernel=rbf; total time=   0.0s\n",
      "[CV] END .......................C=0.5, gamma=0.5, kernel=rbf; total time=   0.0s\n",
      "[CV] END .......................C=0.5, gamma=0.5, kernel=rbf; total time=   0.0s\n",
      "[CV] END .......................C=0.5, gamma=0.5, kernel=rbf; total time=   0.0s\n",
      "[CV] END ...................C=0.5, gamma=0.5, kernel=sigmoid; total time=   0.0s\n"
     ]
    },
    {
     "name": "stdout",
     "output_type": "stream",
     "text": [
      "[CV] END ...................C=0.5, gamma=0.5, kernel=sigmoid; total time=   0.0s\n",
      "[CV] END ...................C=0.5, gamma=0.5, kernel=sigmoid; total time=   0.0s\n",
      "[CV] END ...................C=0.5, gamma=0.5, kernel=sigmoid; total time=   0.0s\n",
      "[CV] END ...................C=0.5, gamma=0.5, kernel=sigmoid; total time=   0.0s\n",
      "[CV] END ......................C=0.5, gamma=1, kernel=linear; total time=   0.0s\n",
      "[CV] END ......................C=0.5, gamma=1, kernel=linear; total time=   0.0s\n",
      "[CV] END ......................C=0.5, gamma=1, kernel=linear; total time=   0.0s\n",
      "[CV] END ......................C=0.5, gamma=1, kernel=linear; total time=   0.0s\n",
      "[CV] END ......................C=0.5, gamma=1, kernel=linear; total time=   0.0s\n",
      "[CV] END .........................C=0.5, gamma=1, kernel=rbf; total time=   0.0s\n",
      "[CV] END .........................C=0.5, gamma=1, kernel=rbf; total time=   0.0s\n",
      "[CV] END .........................C=0.5, gamma=1, kernel=rbf; total time=   0.0s\n",
      "[CV] END .........................C=0.5, gamma=1, kernel=rbf; total time=   0.0s\n",
      "[CV] END .........................C=0.5, gamma=1, kernel=rbf; total time=   0.0s\n",
      "[CV] END .....................C=0.5, gamma=1, kernel=sigmoid; total time=   0.0s\n",
      "[CV] END .....................C=0.5, gamma=1, kernel=sigmoid; total time=   0.0s\n",
      "[CV] END .....................C=0.5, gamma=1, kernel=sigmoid; total time=   0.0s\n",
      "[CV] END .....................C=0.5, gamma=1, kernel=sigmoid; total time=   0.0s\n",
      "[CV] END .....................C=0.5, gamma=1, kernel=sigmoid; total time=   0.0s\n",
      "[CV] END ......................C=0.5, gamma=5, kernel=linear; total time=   0.0s\n",
      "[CV] END ......................C=0.5, gamma=5, kernel=linear; total time=   0.0s\n",
      "[CV] END ......................C=0.5, gamma=5, kernel=linear; total time=   0.0s\n",
      "[CV] END ......................C=0.5, gamma=5, kernel=linear; total time=   0.0s\n",
      "[CV] END ......................C=0.5, gamma=5, kernel=linear; total time=   0.0s\n",
      "[CV] END .........................C=0.5, gamma=5, kernel=rbf; total time=   0.0s\n",
      "[CV] END .........................C=0.5, gamma=5, kernel=rbf; total time=   0.0s\n",
      "[CV] END .........................C=0.5, gamma=5, kernel=rbf; total time=   0.0s\n",
      "[CV] END .........................C=0.5, gamma=5, kernel=rbf; total time=   0.0s\n",
      "[CV] END .........................C=0.5, gamma=5, kernel=rbf; total time=   0.0s\n",
      "[CV] END .....................C=0.5, gamma=5, kernel=sigmoid; total time=   0.0s\n",
      "[CV] END .....................C=0.5, gamma=5, kernel=sigmoid; total time=   0.0s\n",
      "[CV] END .....................C=0.5, gamma=5, kernel=sigmoid; total time=   0.0s\n",
      "[CV] END .....................C=0.5, gamma=5, kernel=sigmoid; total time=   0.0s\n",
      "[CV] END .....................C=0.5, gamma=5, kernel=sigmoid; total time=   0.0s\n",
      "[CV] END .....................C=0.5, gamma=10, kernel=linear; total time=   0.0s\n",
      "[CV] END .....................C=0.5, gamma=10, kernel=linear; total time=   0.0s\n",
      "[CV] END .....................C=0.5, gamma=10, kernel=linear; total time=   0.0s\n",
      "[CV] END .....................C=0.5, gamma=10, kernel=linear; total time=   0.0s\n",
      "[CV] END .....................C=0.5, gamma=10, kernel=linear; total time=   0.0s\n",
      "[CV] END ........................C=0.5, gamma=10, kernel=rbf; total time=   0.0s\n",
      "[CV] END ........................C=0.5, gamma=10, kernel=rbf; total time=   0.0s\n",
      "[CV] END ........................C=0.5, gamma=10, kernel=rbf; total time=   0.0s\n",
      "[CV] END ........................C=0.5, gamma=10, kernel=rbf; total time=   0.0s\n",
      "[CV] END ........................C=0.5, gamma=10, kernel=rbf; total time=   0.0s\n",
      "[CV] END ....................C=0.5, gamma=10, kernel=sigmoid; total time=   0.0s\n",
      "[CV] END ....................C=0.5, gamma=10, kernel=sigmoid; total time=   0.0s\n",
      "[CV] END ....................C=0.5, gamma=10, kernel=sigmoid; total time=   0.0s\n",
      "[CV] END ....................C=0.5, gamma=10, kernel=sigmoid; total time=   0.0s\n",
      "[CV] END ....................C=0.5, gamma=10, kernel=sigmoid; total time=   0.0s\n",
      "[CV] END ......................C=1, gamma=0.1, kernel=linear; total time=   0.0s\n",
      "[CV] END ......................C=1, gamma=0.1, kernel=linear; total time=   0.0s\n",
      "[CV] END ......................C=1, gamma=0.1, kernel=linear; total time=   0.0s\n",
      "[CV] END ......................C=1, gamma=0.1, kernel=linear; total time=   0.0s\n",
      "[CV] END ......................C=1, gamma=0.1, kernel=linear; total time=   0.0s\n",
      "[CV] END .........................C=1, gamma=0.1, kernel=rbf; total time=   0.0s\n",
      "[CV] END .........................C=1, gamma=0.1, kernel=rbf; total time=   0.0s\n",
      "[CV] END .........................C=1, gamma=0.1, kernel=rbf; total time=   0.0s\n",
      "[CV] END .........................C=1, gamma=0.1, kernel=rbf; total time=   0.0s\n",
      "[CV] END .........................C=1, gamma=0.1, kernel=rbf; total time=   0.0s\n",
      "[CV] END .....................C=1, gamma=0.1, kernel=sigmoid; total time=   0.0s\n",
      "[CV] END .....................C=1, gamma=0.1, kernel=sigmoid; total time=   0.0s\n",
      "[CV] END .....................C=1, gamma=0.1, kernel=sigmoid; total time=   0.0s\n",
      "[CV] END .....................C=1, gamma=0.1, kernel=sigmoid; total time=   0.0s\n",
      "[CV] END .....................C=1, gamma=0.1, kernel=sigmoid; total time=   0.0s\n",
      "[CV] END ......................C=1, gamma=0.5, kernel=linear; total time=   0.0s\n",
      "[CV] END ......................C=1, gamma=0.5, kernel=linear; total time=   0.0s\n",
      "[CV] END ......................C=1, gamma=0.5, kernel=linear; total time=   0.0s\n",
      "[CV] END ......................C=1, gamma=0.5, kernel=linear; total time=   0.0s\n",
      "[CV] END ......................C=1, gamma=0.5, kernel=linear; total time=   0.0s\n",
      "[CV] END .........................C=1, gamma=0.5, kernel=rbf; total time=   0.0s\n",
      "[CV] END .........................C=1, gamma=0.5, kernel=rbf; total time=   0.0s\n",
      "[CV] END .........................C=1, gamma=0.5, kernel=rbf; total time=   0.0s\n",
      "[CV] END .........................C=1, gamma=0.5, kernel=rbf; total time=   0.0s\n",
      "[CV] END .........................C=1, gamma=0.5, kernel=rbf; total time=   0.0s\n",
      "[CV] END .....................C=1, gamma=0.5, kernel=sigmoid; total time=   0.0s\n",
      "[CV] END .....................C=1, gamma=0.5, kernel=sigmoid; total time=   0.0s\n",
      "[CV] END .....................C=1, gamma=0.5, kernel=sigmoid; total time=   0.0s\n",
      "[CV] END .....................C=1, gamma=0.5, kernel=sigmoid; total time=   0.0s\n",
      "[CV] END .....................C=1, gamma=0.5, kernel=sigmoid; total time=   0.0s\n",
      "[CV] END ........................C=1, gamma=1, kernel=linear; total time=   0.0s\n",
      "[CV] END ........................C=1, gamma=1, kernel=linear; total time=   0.0s\n",
      "[CV] END ........................C=1, gamma=1, kernel=linear; total time=   0.0s\n",
      "[CV] END ........................C=1, gamma=1, kernel=linear; total time=   0.0s\n",
      "[CV] END ........................C=1, gamma=1, kernel=linear; total time=   0.0s\n",
      "[CV] END ...........................C=1, gamma=1, kernel=rbf; total time=   0.0s\n",
      "[CV] END ...........................C=1, gamma=1, kernel=rbf; total time=   0.0s\n",
      "[CV] END ...........................C=1, gamma=1, kernel=rbf; total time=   0.0s\n",
      "[CV] END ...........................C=1, gamma=1, kernel=rbf; total time=   0.0s\n",
      "[CV] END ...........................C=1, gamma=1, kernel=rbf; total time=   0.0s\n",
      "[CV] END .......................C=1, gamma=1, kernel=sigmoid; total time=   0.0s\n",
      "[CV] END .......................C=1, gamma=1, kernel=sigmoid; total time=   0.0s\n",
      "[CV] END .......................C=1, gamma=1, kernel=sigmoid; total time=   0.0s\n",
      "[CV] END .......................C=1, gamma=1, kernel=sigmoid; total time=   0.0s\n",
      "[CV] END .......................C=1, gamma=1, kernel=sigmoid; total time=   0.0s\n",
      "[CV] END ........................C=1, gamma=5, kernel=linear; total time=   0.0s\n",
      "[CV] END ........................C=1, gamma=5, kernel=linear; total time=   0.0s\n",
      "[CV] END ........................C=1, gamma=5, kernel=linear; total time=   0.0s\n",
      "[CV] END ........................C=1, gamma=5, kernel=linear; total time=   0.0s\n",
      "[CV] END ........................C=1, gamma=5, kernel=linear; total time=   0.0s\n",
      "[CV] END ...........................C=1, gamma=5, kernel=rbf; total time=   0.0s\n",
      "[CV] END ...........................C=1, gamma=5, kernel=rbf; total time=   0.0s\n",
      "[CV] END ...........................C=1, gamma=5, kernel=rbf; total time=   0.0s\n",
      "[CV] END ...........................C=1, gamma=5, kernel=rbf; total time=   0.0s\n",
      "[CV] END ...........................C=1, gamma=5, kernel=rbf; total time=   0.0s\n",
      "[CV] END .......................C=1, gamma=5, kernel=sigmoid; total time=   0.0s\n"
     ]
    },
    {
     "name": "stdout",
     "output_type": "stream",
     "text": [
      "[CV] END .......................C=1, gamma=5, kernel=sigmoid; total time=   0.0s\n",
      "[CV] END .......................C=1, gamma=5, kernel=sigmoid; total time=   0.0s\n",
      "[CV] END .......................C=1, gamma=5, kernel=sigmoid; total time=   0.0s\n",
      "[CV] END .......................C=1, gamma=5, kernel=sigmoid; total time=   0.0s\n",
      "[CV] END .......................C=1, gamma=10, kernel=linear; total time=   0.0s\n",
      "[CV] END .......................C=1, gamma=10, kernel=linear; total time=   0.0s\n",
      "[CV] END .......................C=1, gamma=10, kernel=linear; total time=   0.0s\n",
      "[CV] END .......................C=1, gamma=10, kernel=linear; total time=   0.0s\n",
      "[CV] END .......................C=1, gamma=10, kernel=linear; total time=   0.0s\n",
      "[CV] END ..........................C=1, gamma=10, kernel=rbf; total time=   0.0s\n",
      "[CV] END ..........................C=1, gamma=10, kernel=rbf; total time=   0.0s\n",
      "[CV] END ..........................C=1, gamma=10, kernel=rbf; total time=   0.0s\n",
      "[CV] END ..........................C=1, gamma=10, kernel=rbf; total time=   0.0s\n",
      "[CV] END ..........................C=1, gamma=10, kernel=rbf; total time=   0.0s\n",
      "[CV] END ......................C=1, gamma=10, kernel=sigmoid; total time=   0.0s\n",
      "[CV] END ......................C=1, gamma=10, kernel=sigmoid; total time=   0.0s\n",
      "[CV] END ......................C=1, gamma=10, kernel=sigmoid; total time=   0.0s\n",
      "[CV] END ......................C=1, gamma=10, kernel=sigmoid; total time=   0.0s\n",
      "[CV] END ......................C=1, gamma=10, kernel=sigmoid; total time=   0.0s\n",
      "[CV] END ......................C=5, gamma=0.1, kernel=linear; total time=   0.2s\n",
      "[CV] END ......................C=5, gamma=0.1, kernel=linear; total time=   0.1s\n",
      "[CV] END ......................C=5, gamma=0.1, kernel=linear; total time=   0.0s\n",
      "[CV] END ......................C=5, gamma=0.1, kernel=linear; total time=   0.0s\n",
      "[CV] END ......................C=5, gamma=0.1, kernel=linear; total time=   0.0s\n",
      "[CV] END .........................C=5, gamma=0.1, kernel=rbf; total time=   0.0s\n",
      "[CV] END .........................C=5, gamma=0.1, kernel=rbf; total time=   0.0s\n",
      "[CV] END .........................C=5, gamma=0.1, kernel=rbf; total time=   0.0s\n",
      "[CV] END .........................C=5, gamma=0.1, kernel=rbf; total time=   0.0s\n",
      "[CV] END .........................C=5, gamma=0.1, kernel=rbf; total time=   0.0s\n",
      "[CV] END .....................C=5, gamma=0.1, kernel=sigmoid; total time=   0.0s\n",
      "[CV] END .....................C=5, gamma=0.1, kernel=sigmoid; total time=   0.0s\n",
      "[CV] END .....................C=5, gamma=0.1, kernel=sigmoid; total time=   0.0s\n",
      "[CV] END .....................C=5, gamma=0.1, kernel=sigmoid; total time=   0.0s\n",
      "[CV] END .....................C=5, gamma=0.1, kernel=sigmoid; total time=   0.0s\n",
      "[CV] END ......................C=5, gamma=0.5, kernel=linear; total time=   0.2s\n",
      "[CV] END ......................C=5, gamma=0.5, kernel=linear; total time=   0.1s\n",
      "[CV] END ......................C=5, gamma=0.5, kernel=linear; total time=   0.0s\n",
      "[CV] END ......................C=5, gamma=0.5, kernel=linear; total time=   0.0s\n",
      "[CV] END ......................C=5, gamma=0.5, kernel=linear; total time=   0.0s\n",
      "[CV] END .........................C=5, gamma=0.5, kernel=rbf; total time=   0.0s\n",
      "[CV] END .........................C=5, gamma=0.5, kernel=rbf; total time=   0.0s\n",
      "[CV] END .........................C=5, gamma=0.5, kernel=rbf; total time=   0.0s\n",
      "[CV] END .........................C=5, gamma=0.5, kernel=rbf; total time=   0.0s\n",
      "[CV] END .........................C=5, gamma=0.5, kernel=rbf; total time=   0.0s\n",
      "[CV] END .....................C=5, gamma=0.5, kernel=sigmoid; total time=   0.0s\n",
      "[CV] END .....................C=5, gamma=0.5, kernel=sigmoid; total time=   0.0s\n",
      "[CV] END .....................C=5, gamma=0.5, kernel=sigmoid; total time=   0.0s\n",
      "[CV] END .....................C=5, gamma=0.5, kernel=sigmoid; total time=   0.0s\n",
      "[CV] END .....................C=5, gamma=0.5, kernel=sigmoid; total time=   0.0s\n",
      "[CV] END ........................C=5, gamma=1, kernel=linear; total time=   0.2s\n",
      "[CV] END ........................C=5, gamma=1, kernel=linear; total time=   0.1s\n",
      "[CV] END ........................C=5, gamma=1, kernel=linear; total time=   0.0s\n",
      "[CV] END ........................C=5, gamma=1, kernel=linear; total time=   0.0s\n",
      "[CV] END ........................C=5, gamma=1, kernel=linear; total time=   0.0s\n",
      "[CV] END ...........................C=5, gamma=1, kernel=rbf; total time=   0.0s\n",
      "[CV] END ...........................C=5, gamma=1, kernel=rbf; total time=   0.0s\n",
      "[CV] END ...........................C=5, gamma=1, kernel=rbf; total time=   0.0s\n",
      "[CV] END ...........................C=5, gamma=1, kernel=rbf; total time=   0.0s\n",
      "[CV] END ...........................C=5, gamma=1, kernel=rbf; total time=   0.0s\n",
      "[CV] END .......................C=5, gamma=1, kernel=sigmoid; total time=   0.0s\n",
      "[CV] END .......................C=5, gamma=1, kernel=sigmoid; total time=   0.0s\n",
      "[CV] END .......................C=5, gamma=1, kernel=sigmoid; total time=   0.0s\n",
      "[CV] END .......................C=5, gamma=1, kernel=sigmoid; total time=   0.0s\n",
      "[CV] END .......................C=5, gamma=1, kernel=sigmoid; total time=   0.0s\n",
      "[CV] END ........................C=5, gamma=5, kernel=linear; total time=   0.2s\n",
      "[CV] END ........................C=5, gamma=5, kernel=linear; total time=   0.1s\n",
      "[CV] END ........................C=5, gamma=5, kernel=linear; total time=   0.0s\n",
      "[CV] END ........................C=5, gamma=5, kernel=linear; total time=   0.0s\n",
      "[CV] END ........................C=5, gamma=5, kernel=linear; total time=   0.0s\n",
      "[CV] END ...........................C=5, gamma=5, kernel=rbf; total time=   0.0s\n",
      "[CV] END ...........................C=5, gamma=5, kernel=rbf; total time=   0.0s\n",
      "[CV] END ...........................C=5, gamma=5, kernel=rbf; total time=   0.0s\n",
      "[CV] END ...........................C=5, gamma=5, kernel=rbf; total time=   0.0s\n",
      "[CV] END ...........................C=5, gamma=5, kernel=rbf; total time=   0.0s\n",
      "[CV] END .......................C=5, gamma=5, kernel=sigmoid; total time=   0.0s\n",
      "[CV] END .......................C=5, gamma=5, kernel=sigmoid; total time=   0.0s\n",
      "[CV] END .......................C=5, gamma=5, kernel=sigmoid; total time=   0.0s\n",
      "[CV] END .......................C=5, gamma=5, kernel=sigmoid; total time=   0.0s\n",
      "[CV] END .......................C=5, gamma=5, kernel=sigmoid; total time=   0.0s\n",
      "[CV] END .......................C=5, gamma=10, kernel=linear; total time=   0.2s\n",
      "[CV] END .......................C=5, gamma=10, kernel=linear; total time=   0.1s\n",
      "[CV] END .......................C=5, gamma=10, kernel=linear; total time=   0.0s\n",
      "[CV] END .......................C=5, gamma=10, kernel=linear; total time=   0.0s\n",
      "[CV] END .......................C=5, gamma=10, kernel=linear; total time=   0.0s\n",
      "[CV] END ..........................C=5, gamma=10, kernel=rbf; total time=   0.0s\n",
      "[CV] END ..........................C=5, gamma=10, kernel=rbf; total time=   0.0s\n",
      "[CV] END ..........................C=5, gamma=10, kernel=rbf; total time=   0.0s\n",
      "[CV] END ..........................C=5, gamma=10, kernel=rbf; total time=   0.0s\n",
      "[CV] END ..........................C=5, gamma=10, kernel=rbf; total time=   0.0s\n",
      "[CV] END ......................C=5, gamma=10, kernel=sigmoid; total time=   0.0s\n",
      "[CV] END ......................C=5, gamma=10, kernel=sigmoid; total time=   0.0s\n",
      "[CV] END ......................C=5, gamma=10, kernel=sigmoid; total time=   0.0s\n",
      "[CV] END ......................C=5, gamma=10, kernel=sigmoid; total time=   0.0s\n",
      "[CV] END ......................C=5, gamma=10, kernel=sigmoid; total time=   0.0s\n",
      "[CV] END .....................C=10, gamma=0.1, kernel=linear; total time=   0.3s\n",
      "[CV] END .....................C=10, gamma=0.1, kernel=linear; total time=   0.2s\n",
      "[CV] END .....................C=10, gamma=0.1, kernel=linear; total time=   0.1s\n",
      "[CV] END .....................C=10, gamma=0.1, kernel=linear; total time=   0.1s\n",
      "[CV] END .....................C=10, gamma=0.1, kernel=linear; total time=   0.1s\n",
      "[CV] END ........................C=10, gamma=0.1, kernel=rbf; total time=   0.0s\n",
      "[CV] END ........................C=10, gamma=0.1, kernel=rbf; total time=   0.0s\n",
      "[CV] END ........................C=10, gamma=0.1, kernel=rbf; total time=   0.0s\n"
     ]
    },
    {
     "name": "stdout",
     "output_type": "stream",
     "text": [
      "[CV] END ........................C=10, gamma=0.1, kernel=rbf; total time=   0.0s\n",
      "[CV] END ........................C=10, gamma=0.1, kernel=rbf; total time=   0.0s\n",
      "[CV] END ....................C=10, gamma=0.1, kernel=sigmoid; total time=   0.0s\n",
      "[CV] END ....................C=10, gamma=0.1, kernel=sigmoid; total time=   0.0s\n",
      "[CV] END ....................C=10, gamma=0.1, kernel=sigmoid; total time=   0.0s\n",
      "[CV] END ....................C=10, gamma=0.1, kernel=sigmoid; total time=   0.0s\n",
      "[CV] END ....................C=10, gamma=0.1, kernel=sigmoid; total time=   0.0s\n",
      "[CV] END .....................C=10, gamma=0.5, kernel=linear; total time=   0.3s\n",
      "[CV] END .....................C=10, gamma=0.5, kernel=linear; total time=   0.2s\n",
      "[CV] END .....................C=10, gamma=0.5, kernel=linear; total time=   0.1s\n",
      "[CV] END .....................C=10, gamma=0.5, kernel=linear; total time=   0.1s\n",
      "[CV] END .....................C=10, gamma=0.5, kernel=linear; total time=   0.1s\n",
      "[CV] END ........................C=10, gamma=0.5, kernel=rbf; total time=   0.0s\n",
      "[CV] END ........................C=10, gamma=0.5, kernel=rbf; total time=   0.0s\n",
      "[CV] END ........................C=10, gamma=0.5, kernel=rbf; total time=   0.0s\n",
      "[CV] END ........................C=10, gamma=0.5, kernel=rbf; total time=   0.0s\n",
      "[CV] END ........................C=10, gamma=0.5, kernel=rbf; total time=   0.0s\n",
      "[CV] END ....................C=10, gamma=0.5, kernel=sigmoid; total time=   0.0s\n",
      "[CV] END ....................C=10, gamma=0.5, kernel=sigmoid; total time=   0.0s\n",
      "[CV] END ....................C=10, gamma=0.5, kernel=sigmoid; total time=   0.0s\n",
      "[CV] END ....................C=10, gamma=0.5, kernel=sigmoid; total time=   0.0s\n",
      "[CV] END ....................C=10, gamma=0.5, kernel=sigmoid; total time=   0.0s\n",
      "[CV] END .......................C=10, gamma=1, kernel=linear; total time=   0.3s\n",
      "[CV] END .......................C=10, gamma=1, kernel=linear; total time=   0.2s\n",
      "[CV] END .......................C=10, gamma=1, kernel=linear; total time=   0.1s\n",
      "[CV] END .......................C=10, gamma=1, kernel=linear; total time=   0.1s\n",
      "[CV] END .......................C=10, gamma=1, kernel=linear; total time=   0.1s\n",
      "[CV] END ..........................C=10, gamma=1, kernel=rbf; total time=   0.0s\n",
      "[CV] END ..........................C=10, gamma=1, kernel=rbf; total time=   0.0s\n",
      "[CV] END ..........................C=10, gamma=1, kernel=rbf; total time=   0.0s\n",
      "[CV] END ..........................C=10, gamma=1, kernel=rbf; total time=   0.0s\n",
      "[CV] END ..........................C=10, gamma=1, kernel=rbf; total time=   0.0s\n",
      "[CV] END ......................C=10, gamma=1, kernel=sigmoid; total time=   0.0s\n",
      "[CV] END ......................C=10, gamma=1, kernel=sigmoid; total time=   0.0s\n",
      "[CV] END ......................C=10, gamma=1, kernel=sigmoid; total time=   0.0s\n",
      "[CV] END ......................C=10, gamma=1, kernel=sigmoid; total time=   0.0s\n",
      "[CV] END ......................C=10, gamma=1, kernel=sigmoid; total time=   0.0s\n",
      "[CV] END .......................C=10, gamma=5, kernel=linear; total time=   0.3s\n",
      "[CV] END .......................C=10, gamma=5, kernel=linear; total time=   0.2s\n",
      "[CV] END .......................C=10, gamma=5, kernel=linear; total time=   0.1s\n",
      "[CV] END .......................C=10, gamma=5, kernel=linear; total time=   0.1s\n",
      "[CV] END .......................C=10, gamma=5, kernel=linear; total time=   0.1s\n",
      "[CV] END ..........................C=10, gamma=5, kernel=rbf; total time=   0.0s\n",
      "[CV] END ..........................C=10, gamma=5, kernel=rbf; total time=   0.0s\n",
      "[CV] END ..........................C=10, gamma=5, kernel=rbf; total time=   0.0s\n",
      "[CV] END ..........................C=10, gamma=5, kernel=rbf; total time=   0.0s\n",
      "[CV] END ..........................C=10, gamma=5, kernel=rbf; total time=   0.0s\n",
      "[CV] END ......................C=10, gamma=5, kernel=sigmoid; total time=   0.0s\n",
      "[CV] END ......................C=10, gamma=5, kernel=sigmoid; total time=   0.0s\n",
      "[CV] END ......................C=10, gamma=5, kernel=sigmoid; total time=   0.0s\n",
      "[CV] END ......................C=10, gamma=5, kernel=sigmoid; total time=   0.0s\n",
      "[CV] END ......................C=10, gamma=5, kernel=sigmoid; total time=   0.0s\n",
      "[CV] END ......................C=10, gamma=10, kernel=linear; total time=   0.3s\n",
      "[CV] END ......................C=10, gamma=10, kernel=linear; total time=   0.2s\n",
      "[CV] END ......................C=10, gamma=10, kernel=linear; total time=   0.1s\n",
      "[CV] END ......................C=10, gamma=10, kernel=linear; total time=   0.1s\n",
      "[CV] END ......................C=10, gamma=10, kernel=linear; total time=   0.1s\n",
      "[CV] END .........................C=10, gamma=10, kernel=rbf; total time=   0.0s\n",
      "[CV] END .........................C=10, gamma=10, kernel=rbf; total time=   0.0s\n",
      "[CV] END .........................C=10, gamma=10, kernel=rbf; total time=   0.0s\n",
      "[CV] END .........................C=10, gamma=10, kernel=rbf; total time=   0.0s\n",
      "[CV] END .........................C=10, gamma=10, kernel=rbf; total time=   0.0s\n",
      "[CV] END .....................C=10, gamma=10, kernel=sigmoid; total time=   0.0s\n",
      "[CV] END .....................C=10, gamma=10, kernel=sigmoid; total time=   0.0s\n",
      "[CV] END .....................C=10, gamma=10, kernel=sigmoid; total time=   0.0s\n",
      "[CV] END .....................C=10, gamma=10, kernel=sigmoid; total time=   0.0s\n",
      "[CV] END .....................C=10, gamma=10, kernel=sigmoid; total time=   0.0s\n"
     ]
    }
   ],
   "source": [
    "from sklearn.model_selection import GridSearchCV\n",
    "\n",
    "model = SVC(probability=True, random_state=0)\n",
    "\n",
    "param_grid = {\n",
    "    'C': [0.1, 0.5, 1, 5, 10],\n",
    "    'gamma': [0.1, 0.5, 1, 5, 10],\n",
    "    'kernel': ['linear', 'rbf', 'sigmoid']\n",
    "}\n",
    "\n",
    "grid_search = GridSearchCV(estimator=model, param_grid=param_grid, cv=5, verbose=2)\n",
    "grid_search.fit(x, y) # Train the model 75 times with 75 different parameter combinations\n",
    "\n",
    "best_model = grid_search.best_estimator_ # Get the model with the best performance"
   ]
  },
  {
   "cell_type": "markdown",
   "metadata": {},
   "source": [
    "Get the best parameter values from `GridSearchCV`."
   ]
  },
  {
   "cell_type": "code",
   "execution_count": 10,
   "metadata": {},
   "outputs": [
    {
     "name": "stdout",
     "output_type": "stream",
     "text": [
      "{'C': 1, 'gamma': 0.5, 'kernel': 'rbf'}\n"
     ]
    }
   ],
   "source": [
    "print(grid_search.best_params_)"
   ]
  },
  {
   "cell_type": "markdown",
   "metadata": {},
   "source": [
    "Cross-validate the model again to see if the score improved."
   ]
  },
  {
   "cell_type": "code",
   "execution_count": 11,
   "metadata": {},
   "outputs": [
    {
     "name": "stdout",
     "output_type": "stream",
     "text": [
      "0.8179552841524671\n"
     ]
    }
   ],
   "source": [
    "scores = cross_validate(best_model, x, y, cv=5)\n",
    "print(scores['test_score'].mean())"
   ]
  },
  {
   "cell_type": "markdown",
   "metadata": {},
   "source": [
    "We're up from 78% to almost 82% with an RBF kernel. Let's try narrowing the range of `C` and `gamma` and see if we can improve the model further."
   ]
  },
  {
   "cell_type": "code",
   "execution_count": 12,
   "metadata": {
    "scrolled": true
   },
   "outputs": [
    {
     "name": "stdout",
     "output_type": "stream",
     "text": [
      "Fitting 5 folds for each of 9 candidates, totalling 45 fits\n",
      "[CV] END ....................................C=1, gamma=0.25; total time=   0.0s\n",
      "[CV] END ....................................C=1, gamma=0.25; total time=   0.0s\n",
      "[CV] END ....................................C=1, gamma=0.25; total time=   0.0s\n",
      "[CV] END ....................................C=1, gamma=0.25; total time=   0.0s\n",
      "[CV] END ....................................C=1, gamma=0.25; total time=   0.0s\n",
      "[CV] END .....................................C=1, gamma=0.5; total time=   0.0s\n",
      "[CV] END .....................................C=1, gamma=0.5; total time=   0.0s\n",
      "[CV] END .....................................C=1, gamma=0.5; total time=   0.0s\n",
      "[CV] END .....................................C=1, gamma=0.5; total time=   0.0s\n",
      "[CV] END .....................................C=1, gamma=0.5; total time=   0.0s\n",
      "[CV] END ....................................C=1, gamma=0.75; total time=   0.0s\n",
      "[CV] END ....................................C=1, gamma=0.75; total time=   0.0s\n",
      "[CV] END ....................................C=1, gamma=0.75; total time=   0.0s\n",
      "[CV] END ....................................C=1, gamma=0.75; total time=   0.0s\n",
      "[CV] END ....................................C=1, gamma=0.75; total time=   0.0s\n",
      "[CV] END ....................................C=2, gamma=0.25; total time=   0.0s\n",
      "[CV] END ....................................C=2, gamma=0.25; total time=   0.0s\n",
      "[CV] END ....................................C=2, gamma=0.25; total time=   0.0s\n",
      "[CV] END ....................................C=2, gamma=0.25; total time=   0.0s\n",
      "[CV] END ....................................C=2, gamma=0.25; total time=   0.0s\n",
      "[CV] END .....................................C=2, gamma=0.5; total time=   0.0s\n",
      "[CV] END .....................................C=2, gamma=0.5; total time=   0.0s\n",
      "[CV] END .....................................C=2, gamma=0.5; total time=   0.0s\n",
      "[CV] END .....................................C=2, gamma=0.5; total time=   0.0s\n",
      "[CV] END .....................................C=2, gamma=0.5; total time=   0.0s\n",
      "[CV] END ....................................C=2, gamma=0.75; total time=   0.0s\n",
      "[CV] END ....................................C=2, gamma=0.75; total time=   0.0s\n",
      "[CV] END ....................................C=2, gamma=0.75; total time=   0.0s\n",
      "[CV] END ....................................C=2, gamma=0.75; total time=   0.0s\n",
      "[CV] END ....................................C=2, gamma=0.75; total time=   0.0s\n",
      "[CV] END ....................................C=3, gamma=0.25; total time=   0.0s\n",
      "[CV] END ....................................C=3, gamma=0.25; total time=   0.0s\n",
      "[CV] END ....................................C=3, gamma=0.25; total time=   0.0s\n",
      "[CV] END ....................................C=3, gamma=0.25; total time=   0.0s\n",
      "[CV] END ....................................C=3, gamma=0.25; total time=   0.0s\n",
      "[CV] END .....................................C=3, gamma=0.5; total time=   0.0s\n",
      "[CV] END .....................................C=3, gamma=0.5; total time=   0.0s\n",
      "[CV] END .....................................C=3, gamma=0.5; total time=   0.0s\n",
      "[CV] END .....................................C=3, gamma=0.5; total time=   0.0s\n",
      "[CV] END .....................................C=3, gamma=0.5; total time=   0.0s\n",
      "[CV] END ....................................C=3, gamma=0.75; total time=   0.0s\n",
      "[CV] END ....................................C=3, gamma=0.75; total time=   0.0s\n",
      "[CV] END ....................................C=3, gamma=0.75; total time=   0.0s\n",
      "[CV] END ....................................C=3, gamma=0.75; total time=   0.0s\n",
      "[CV] END ....................................C=3, gamma=0.75; total time=   0.0s\n"
     ]
    }
   ],
   "source": [
    "model = SVC(kernel='rbf', probability=True, random_state=0)\n",
    "\n",
    "param_grid = {\n",
    "    'C': [1, 2, 3],\n",
    "    'gamma': [0.25, 0.5, 0.75]\n",
    "}\n",
    "\n",
    "grid_search = GridSearchCV(estimator=model, param_grid=param_grid, cv=5, verbose=2)\n",
    "grid_search.fit(x, y)\n",
    "\n",
    "best_model = grid_search.best_estimator_"
   ]
  },
  {
   "cell_type": "markdown",
   "metadata": {},
   "source": [
    "What are the best parameter values this time?"
   ]
  },
  {
   "cell_type": "code",
   "execution_count": 13,
   "metadata": {
    "scrolled": true
   },
   "outputs": [
    {
     "name": "stdout",
     "output_type": "stream",
     "text": [
      "{'C': 3, 'gamma': 0.25}\n"
     ]
    }
   ],
   "source": [
    "print(grid_search.best_params_)"
   ]
  },
  {
   "cell_type": "markdown",
   "metadata": {},
   "source": [
    "And what is the cross-validated score?"
   ]
  },
  {
   "cell_type": "code",
   "execution_count": 14,
   "metadata": {},
   "outputs": [
    {
     "name": "stdout",
     "output_type": "stream",
     "text": [
      "0.8221510883482714\n"
     ]
    }
   ],
   "source": [
    "scores = cross_validate(best_model, x, y, cv=5)\n",
    "print(scores['test_score'].mean())"
   ]
  },
  {
   "cell_type": "markdown",
   "metadata": {},
   "source": [
    "We're above 82% now. Make the best model that `GridSearchCV` found *the* model."
   ]
  },
  {
   "cell_type": "code",
   "execution_count": 15,
   "metadata": {},
   "outputs": [],
   "source": [
    "model = best_model"
   ]
  },
  {
   "cell_type": "markdown",
   "metadata": {},
   "source": [
    "Use a confusion matrix to see how the model performs during testing."
   ]
  },
  {
   "cell_type": "code",
   "execution_count": 16,
   "metadata": {},
   "outputs": [
    {
     "data": {
      "text/plain": [
       "<sklearn.metrics._plot.confusion_matrix.ConfusionMatrixDisplay at 0x166d6dae1f0>"
      ]
     },
     "execution_count": 16,
     "metadata": {},
     "output_type": "execute_result"
    },
    {
     "data": {
      "image/png": "[encoded data removed]",
      "text/plain": [
       "<Figure size 432x288 with 2 Axes>"
      ]
     },
     "metadata": {
      "needs_background": "light"
     },
     "output_type": "display_data"
    }
   ],
   "source": [
    "%matplotlib inline\n",
    "from sklearn.metrics import plot_confusion_matrix\n",
    "\n",
    "plot_confusion_matrix(model, x_test, y_test, display_labels=['Perished', 'Survived'], cmap='Blues', xticks_rotation='vertical')"
   ]
  },
  {
   "cell_type": "markdown",
   "metadata": {},
   "source": [
    "Print a classification report to view precision, recall, and other metrics."
   ]
  },
  {
   "cell_type": "code",
   "execution_count": 17,
   "metadata": {},
   "outputs": [
    {
     "name": "stdout",
     "output_type": "stream",
     "text": [
      "              precision    recall  f1-score   support\n",
      "\n",
      "           0       0.86      0.93      0.89        85\n",
      "           1       0.88      0.78      0.83        58\n",
      "\n",
      "    accuracy                           0.87       143\n",
      "   macro avg       0.87      0.85      0.86       143\n",
      "weighted avg       0.87      0.87      0.87       143\n",
      "\n"
     ]
    }
   ],
   "source": [
    "from sklearn.metrics import classification_report\n",
    "\n",
    "print(classification_report(y_test, model.predict(x_test)))"
   ]
  },
  {
   "cell_type": "markdown",
   "metadata": {},
   "source": [
    "## Use the model to make predictions\n",
    "\n",
    "Now use the model to predict whether a 30-year-old female traveling in first class will survive the voyage."
   ]
  },
  {
   "cell_type": "code",
   "execution_count": 18,
   "metadata": {},
   "outputs": [
    {
     "data": {
      "text/plain": [
       "1"
      ]
     },
     "execution_count": 18,
     "metadata": {},
     "output_type": "execute_result"
    }
   ],
   "source": [
    "female = [[30, 1, 0, 1, 0, 0]]\n",
    "model.predict(female)[0]"
   ]
  },
  {
   "cell_type": "markdown",
   "metadata": {},
   "source": [
    "More to the point, what is the probability that a 30-year-old female traveling in first class will survive?"
   ]
  },
  {
   "cell_type": "code",
   "execution_count": 19,
   "metadata": {},
   "outputs": [
    {
     "name": "stdout",
     "output_type": "stream",
     "text": [
      "Probability of survival: 84.1%\n"
     ]
    }
   ],
   "source": [
    "probability = model.predict_proba(female)[0][1]\n",
    "print(f'Probability of survival: {probability:.1%}')"
   ]
  },
  {
   "cell_type": "markdown",
   "metadata": {},
   "source": [
    "How about a 60-year-old male traveling in third class?"
   ]
  },
  {
   "cell_type": "code",
   "execution_count": 20,
   "metadata": {},
   "outputs": [
    {
     "name": "stdout",
     "output_type": "stream",
     "text": [
      "Probability of survival: 13.0%\n"
     ]
    }
   ],
   "source": [
    "male = [[60, 0, 1, 0, 0, 1]]\n",
    "probability = model.predict_proba(male)[0][1]\n",
    "print(f'Probability of survival: {probability:.1%}')"
   ]
  }
 ],
 "metadata": {
  "kernelspec": {
   "display_name": "Python 3 (ipykernel)",
   "language": "python",
   "name": "python3"
  },
  "language_info": {
   "codemirror_mode": {
    "name": "ipython",
    "version": 3
   },
   "file_extension": ".py",
   "mimetype": "text/x-python",
   "name": "python",
   "nbconvert_exporter": "python",
   "pygments_lexer": "ipython3",
   "version": "3.11.7"
  }
 },
 "nbformat": 4,
 "nbformat_minor": 4
}
