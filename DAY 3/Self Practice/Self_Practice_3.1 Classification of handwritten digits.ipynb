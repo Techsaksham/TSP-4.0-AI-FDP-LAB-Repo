{
 "cells": [
  {
   "attachments": {
    "image.png": {
     "image/png": "[encoded data removed]"
    }
   },
   "cell_type": "markdown",
   "id": "d4623bfe",
   "metadata": {},
   "source": [
    "![image.png](attachment:image.png)"
   ]
  },
  {
   "cell_type": "markdown",
   "id": "adaa652c",
   "metadata": {},
   "source": [
    "# Edunet Foundation : Self Practice Exercises"
   ]
  },
  {
   "cell_type": "markdown",
   "id": "784bf4f0-09b4-4b5e-8197-f96fe195cd78",
   "metadata": {},
   "source": [
    "## Self Practice 3.1 Classification of handwritten digits using ANN "
   ]
  },
  {
   "cell_type": "markdown",
   "id": "a4e2f980-b2d8-46be-ac57-1aacfc0c3c8d",
   "metadata": {},
   "source": [
    "#### MNIST dataset "
   ]
  },
  {
   "cell_type": "markdown",
   "id": "cedd0b23-fcdf-4a46-ab47-184717683e01",
   "metadata": {},
   "source": [
    "#### Step 1 : Importing all dependence "
   ]
  },
  {
   "cell_type": "code",
   "execution_count": 67,
   "id": "4c857ccf-3f6c-4a85-bb21-9848415fd544",
   "metadata": {},
   "outputs": [],
   "source": [
    "import tensorflow as tf \n",
    "import numpy as np \n",
    "import matplotlib.pyplot as plt "
   ]
  },
  {
   "cell_type": "markdown",
   "id": "d240c6b4-d3e6-4bac-a3e1-65077ac6e2db",
   "metadata": {},
   "source": [
    "#### Step 2 : Import data and normalize it "
   ]
  },
  {
   "cell_type": "code",
   "execution_count": 68,
   "id": "41dc1502-82ae-4e49-9ccd-430dba3b8196",
   "metadata": {},
   "outputs": [],
   "source": [
    "mnist = tf.keras.datasets.mnist \n",
    "(x_train,y_train) , (x_test,y_test) = mnist.load_data() \n",
    "\n",
    "x_train = tf.keras.utils.normalize(x_train,axis=1) \n",
    "x_test = tf.keras.utils.normalize(x_test,axis=1) \n"
   ]
  },
  {
   "cell_type": "markdown",
   "id": "ca390d2f-d1b1-4c7a-8862-c60a1e5aff3d",
   "metadata": {},
   "source": [
    "#### Step 3 : view data "
   ]
  },
  {
   "cell_type": "code",
   "execution_count": 69,
   "id": "282b2761-9f2a-4e4d-a66f-b30678965db4",
   "metadata": {},
   "outputs": [
    {
     "data": {
      "image/png": "[encoded data removed]",
      "text/plain": [
       "<Figure size 640x480 with 1 Axes>"
      ]
     },
     "metadata": {},
     "output_type": "display_data"
    }
   ],
   "source": [
    "def draw(n): \n",
    "    plt.imshow(n,cmap=plt.cm.binary) \n",
    "    plt.show()  \n",
    "      \n",
    "draw(x_train[0]) "
   ]
  },
  {
   "cell_type": "markdown",
   "id": "aa44d455-0541-407f-9d66-0ebf6c590cf1",
   "metadata": {},
   "source": [
    "#### Step 4 : make a neural network and train it "
   ]
  },
  {
   "cell_type": "code",
   "execution_count": 70,
   "id": "0c7062a7-cbd4-4161-873a-e01fd30c4b15",
   "metadata": {},
   "outputs": [
    {
     "name": "stdout",
     "output_type": "stream",
     "text": [
      "Epoch 1/3\n",
      "WARNING:tensorflow:From C:\\Users\\PRS\\AppData\\Local\\Programs\\Python\\Python310\\lib\\site-packages\\keras\\src\\utils\\tf_utils.py:492: The name tf.ragged.RaggedTensorValue is deprecated. Please use tf.compat.v1.ragged.RaggedTensorValue instead.\n",
      "\n",
      "WARNING:tensorflow:From C:\\Users\\PRS\\AppData\\Local\\Programs\\Python\\Python310\\lib\\site-packages\\keras\\src\\engine\\base_layer_utils.py:384: The name tf.executing_eagerly_outside_functions is deprecated. Please use tf.compat.v1.executing_eagerly_outside_functions instead.\n",
      "\n",
      "1875/1875 [==============================] - 13s 5ms/step - loss: 0.2686 - accuracy: 0.9217\n",
      "Epoch 2/3\n",
      "1875/1875 [==============================] - 10s 5ms/step - loss: 0.1099 - accuracy: 0.9663\n",
      "Epoch 3/3\n",
      "1875/1875 [==============================] - 10s 5ms/step - loss: 0.0734 - accuracy: 0.9766\n"
     ]
    },
    {
     "data": {
      "text/plain": [
       "<keras.src.callbacks.History at 0x1bf5ae80130>"
      ]
     },
     "execution_count": 70,
     "metadata": {},
     "output_type": "execute_result"
    }
   ],
   "source": [
    "#there are two types of models \n",
    "#sequential is most common, why? \n",
    "\n",
    "model = tf.keras.models.Sequential() \n",
    "\n",
    "model.add(tf.keras.layers.Flatten(input_shape=(28, 28))) \n",
    "#reshape \n",
    "\n",
    "model.add(tf.keras.layers.Dense(128,activation=tf.nn.relu)) \n",
    "model.add(tf.keras.layers.Dense(128,activation=tf.nn.relu)) \n",
    "model.add(tf.keras.layers.Dense(10,activation=tf.nn.softmax)) \n",
    "\n",
    "model.compile(optimizer='adam', \n",
    "\t\t\tloss='sparse_categorical_crossentropy', \n",
    "\t\t\tmetrics=['accuracy'] \n",
    "\t\t\t) \n",
    "model.fit(x_train,y_train,epochs=3) \n"
   ]
  },
  {
   "cell_type": "code",
   "execution_count": 71,
   "id": "8acce918-4bc8-47aa-9a3d-bdfafd9df12e",
   "metadata": {},
   "outputs": [
    {
     "name": "stdout",
     "output_type": "stream",
     "text": [
      "313/313 [==============================] - 2s 4ms/step - loss: 0.0903 - accuracy: 0.9721\n",
      "loss->  0.09025983512401581 \n",
      "acc->  0.972100019454956\n"
     ]
    }
   ],
   "source": [
    "val_loss,val_acc = model.evaluate(x_test,y_test) \n",
    "print(\"loss-> \",val_loss,\"\\nacc-> \",val_acc) "
   ]
  },
  {
   "cell_type": "code",
   "execution_count": 72,
   "id": "b916ac68-2f3e-43f3-9e7d-e33528debd5b",
   "metadata": {},
   "outputs": [
    {
     "name": "stdout",
     "output_type": "stream",
     "text": [
      "313/313 [==============================] - 1s 3ms/step\n",
      "label ->  1\n",
      "prediction ->  1\n"
     ]
    },
    {
     "data": {
      "image/png": "[encoded data removed]",
      "text/plain": [
       "<Figure size 640x480 with 1 Axes>"
      ]
     },
     "metadata": {},
     "output_type": "display_data"
    }
   ],
   "source": [
    "predictions=model.predict([x_test]) \n",
    "print('label -> ',y_test[2]) \n",
    "print('prediction -> ',np.argmax(predictions[2])) \n",
    "\n",
    "draw(x_test[2]) \n"
   ]
  },
  {
   "cell_type": "code",
   "execution_count": 73,
   "id": "3bcd66fd-d2d0-4ef2-8460-7d1ac882e95e",
   "metadata": {},
   "outputs": [
    {
     "name": "stderr",
     "output_type": "stream",
     "text": [
      "C:\\Users\\PRS\\AppData\\Local\\Programs\\Python\\Python310\\lib\\site-packages\\keras\\src\\engine\\training.py:3103: UserWarning: You are saving your model as an HDF5 file via `model.save()`. This file format is considered legacy. We recommend using instead the native Keras format, e.g. `model.save('my_model.keras')`.\n",
      "  saving_api.save_model(\n"
     ]
    }
   ],
   "source": [
    "#saving the model \n",
    "# .h5 or .model can be used \n",
    "\n",
    "model.save('epic_num_reader.h5') \n"
   ]
  },
  {
   "cell_type": "code",
   "execution_count": null,
   "id": "8908ac3b-7bcb-45c6-90c7-97336693982a",
   "metadata": {},
   "outputs": [],
   "source": []
  }
 ],
 "metadata": {
  "kernelspec": {
   "display_name": "Python 3 (ipykernel)",
   "language": "python",
   "name": "python3"
  },
  "language_info": {
   "codemirror_mode": {
    "name": "ipython",
    "version": 3
   },
   "file_extension": ".py",
   "mimetype": "text/x-python",
   "name": "python",
   "nbconvert_exporter": "python",
   "pygments_lexer": "ipython3",
   "version": "3.9.17"
  }
 },
 "nbformat": 4,
 "nbformat_minor": 5
}
