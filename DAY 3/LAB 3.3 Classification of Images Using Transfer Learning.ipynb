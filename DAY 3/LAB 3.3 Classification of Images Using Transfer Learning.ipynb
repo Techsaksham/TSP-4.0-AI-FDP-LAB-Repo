{
 "cells": [
  {
   "cell_type": "markdown",
   "id": "5cbe7370-44ef-4afa-95f6-2fcf6b540fe6",
   "metadata": {},
   "source": [
    "## LAB 3.1 Classification of Images Using Transfer Learning"
   ]
  },
  {
   "cell_type": "markdown",
   "id": "19d0e745-fa6a-4ec6-a5b1-6ee4d85af7ee",
   "metadata": {},
   "source": [
    "### Import the necessary libraries and functions\n",
    "Import required libraries and the MNIST dataset, a dataset of handwritten digits often used for training and testing machine learning models."
   ]
  },
  {
   "cell_type": "code",
   "execution_count": 1,
   "id": "632a67eb-0b0a-4240-8647-9c7bef179ae2",
   "metadata": {},
   "outputs": [],
   "source": [
    "import tensorflow as tf\n",
    "from tensorflow.keras import layers, models, optimizers\n",
    "from tensorflow.keras.datasets import mnist\n",
    "from tensorflow.keras.utils import to_categorical"
   ]
  },
  {
   "cell_type": "markdown",
   "id": "9286ce60-cadc-463b-a58a-ee7f2e25a188",
   "metadata": {},
   "source": [
    "Load and unpack the MNIST dataset into training and testing sets for images (x) and labels (y)."
   ]
  },
  {
   "cell_type": "markdown",
   "id": "3d4d174d-7423-412a-b7e5-554bf4bcf3a3",
   "metadata": {},
   "source": [
    "(x_train, y_train), (x_test, y_test) = mnist.load_data()\n",
    "x_train = x_train.astype('float32') / 255.0\n",
    "x_test = x_test.astype('float32') / 255.0"
   ]
  },
  {
   "cell_type": "markdown",
   "id": "acd6d373-1512-4900-abe1-ea801b0fcc3b",
   "metadata": {},
   "source": [
    "Convert class labels to one-hot encoded vectors for both training and testing sets."
   ]
  },
  {
   "cell_type": "code",
   "execution_count": 3,
   "id": "c724043c-6d08-4667-93c0-421d2eee83e8",
   "metadata": {},
   "outputs": [],
   "source": [
    "y_train = to_categorical(y_train, 10)\n",
    "y_test = to_categorical(y_test, 10)"
   ]
  },
  {
   "cell_type": "markdown",
   "id": "87018283-1846-485c-83b2-20190c7c1adf",
   "metadata": {},
   "source": [
    "### Load a pretrained MobileNetV2 model without the classification layer\n",
    "The code initializes a MobileNetV2 model using TensorFlow/Keras. It has an input shape of (224, 224, 3), excludes the top layers for feature extraction, and uses pre-trained ImageNet weights. This makes it suitable for tasks like transfer learning in image classification."
   ]
  },
  {
   "cell_type": "code",
   "execution_count": 4,
   "id": "d77e9edc-8565-40a7-94c0-bada5c37f249",
   "metadata": {},
   "outputs": [
    {
     "name": "stdout",
     "output_type": "stream",
     "text": [
      "Downloading data from https://storage.googleapis.com/tensorflow/keras-applications/mobilenet_v2/mobilenet_v2_weights_tf_dim_ordering_tf_kernels_1.0_224_no_top.h5\n",
      "\u001b[1m9406464/9406464\u001b[0m \u001b[32m━━━━━━━━━━━━━━━━━━━━\u001b[0m\u001b[37m\u001b[0m \u001b[1m5s\u001b[0m 0us/step\n"
     ]
    }
   ],
   "source": [
    "base_model = tf.keras.applications.MobileNetV2(input_shape=(224, 224, 3),\n",
    "                                               include_top=False,\n",
    "                                               weights='imagenet')"
   ]
  },
  {
   "cell_type": "markdown",
   "id": "4a8b2f4f-ae9e-47d0-b404-8e851612a5a3",
   "metadata": {},
   "source": [
    "### Add custom layers on top of the pre-trained model\n",
    "- Using TensorFlow’s Keras API, this code builds a convolutional neural network (CNN). \n",
    "- Layers for reshaping, convolution, pooling, flattening, and fully connected operations are included. \n",
    "- Dropout is used to achieve regularisation. \n",
    "- Using softmax activation, the model, which is ideal for image classification like MNIST, generates class probabilities. \n",
    "- The design achieves a compromise between feature extraction and categorization, allowing for successful learning and generalization."
   ]
  },
  {
   "cell_type": "code",
   "execution_count": 5,
   "id": "c6291086-d2af-46f0-8033-69b3af5d503a",
   "metadata": {},
   "outputs": [
    {
     "name": "stderr",
     "output_type": "stream",
     "text": [
      "C:\\Users\\PRS\\AppData\\Local\\Programs\\Python\\Python310\\lib\\site-packages\\keras\\src\\layers\\reshaping\\reshape.py:39: UserWarning: Do not pass an `input_shape`/`input_dim` argument to a layer. When using Sequential models, prefer using an `Input(shape)` object as the first layer in the model instead.\n",
      "  super().__init__(**kwargs)\n"
     ]
    }
   ],
   "source": [
    "model = models.Sequential()\n",
    "model.add(layers.Reshape((28, 28, 1), input_shape=(28, 28)))  # Add a channel dimension\n",
    "model.add(layers.Conv2D(32, (3, 3), activation='relu'))\n",
    "model.add(layers.MaxPooling2D((2, 2)))\n",
    "model.add(layers.Flatten())\n",
    "model.add(layers.Dense(256, activation='relu'))\n",
    "model.add(layers.Dropout(0.5))\n",
    "model.add(layers.Dense(10, activation='softmax'))"
   ]
  },
  {
   "cell_type": "markdown",
   "id": "bc093d01-23e4-4b01-ad85-93361d3607b1",
   "metadata": {},
   "source": [
    "### Freeze the pretrained layers \n",
    "                                               \n",
    "- It is essential that the convolutional base be frozen prior to model compilation and training\n",
    "-  Freezing ( through layer setting).trainable = False) stops a layer’s weights from changing while it is being trained.\n",
    "-  Since there are numerous layers in MobileNet V2, all of them will be frozen if the trainable flag for the model is set to False."
   ]
  },
  {
   "cell_type": "code",
   "execution_count": 6,
   "id": "b94100a2-2a7c-4c90-9418-4ef5d8d99f6a",
   "metadata": {},
   "outputs": [],
   "source": [
    "for layer in base_model.layers:\n",
    "    layer.trainable = False"
   ]
  },
  {
   "cell_type": "markdown",
   "id": "2b2a8065-f065-4441-a2d1-1fb2742cd98e",
   "metadata": {},
   "source": [
    "### Compile the model\n",
    "It is essential to utilize a lower learning rate at this point because you are training a much larger model and want to readjust the pretrained weights. If not, your model may rapidly become overfit."
   ]
  },
  {
   "cell_type": "code",
   "execution_count": 7,
   "id": "a7bc2481-da5c-4cb2-b6d1-5af00d5a83d6",
   "metadata": {},
   "outputs": [],
   "source": [
    "model.compile(optimizer=optimizers.Adam(learning_rate=0.001),\n",
    "              loss='categorical_crossentropy',\n",
    "              metrics=['accuracy'])"
   ]
  },
  {
   "cell_type": "markdown",
   "id": "cf7747c0-1a4c-416f-9179-48ea6a973ef8",
   "metadata": {},
   "source": [
    "### Custom training loop"
   ]
  },
  {
   "cell_type": "code",
   "execution_count": 8,
   "id": "dbde29fc-6140-48fe-81ea-40cfbf7fafe3",
   "metadata": {},
   "outputs": [
    {
     "name": "stdout",
     "output_type": "stream",
     "text": [
      "Epoch 1/10\n",
      "Validation Accuracy: 0.9714000225067139\n",
      "Epoch 2/10\n",
      "Validation Accuracy: 0.9710000157356262\n",
      "Epoch 3/10\n",
      "Validation Accuracy: 0.9717000126838684\n",
      "Epoch 4/10\n",
      "Validation Accuracy: 0.9710000157356262\n",
      "Epoch 5/10\n",
      "Validation Accuracy: 0.970300018787384\n",
      "Epoch 6/10\n",
      "Validation Accuracy: 0.9708999991416931\n",
      "Epoch 7/10\n",
      "Validation Accuracy: 0.9754999876022339\n",
      "Epoch 8/10\n",
      "Validation Accuracy: 0.977400004863739\n",
      "Epoch 9/10\n",
      "Validation Accuracy: 0.9725000262260437\n",
      "Epoch 10/10\n",
      "Validation Accuracy: 0.977400004863739\n"
     ]
    }
   ],
   "source": [
    "epochs = 10\n",
    "batch_size = 32\n",
    "\n",
    "# Create tf.data.Dataset for training and validation\n",
    "train_dataset = tf.data.Dataset.from_tensor_slices((x_train, y_train)).shuffle(60000).batch(batch_size)\n",
    "val_dataset = tf.data.Dataset.from_tensor_slices((x_test, y_test)).batch(batch_size)\n",
    "\n",
    "for epoch in range(epochs):\n",
    "    print(f\"Epoch {epoch + 1}/{epochs}\")\n",
    "\n",
    "    # Training loop\n",
    "    for images, labels in train_dataset:\n",
    "        with tf.GradientTape() as tape:\n",
    "            predictions = model(images)\n",
    "            loss = tf.keras.losses.categorical_crossentropy(labels, predictions)\n",
    "        gradients = tape.gradient(loss, model.trainable_variables)\n",
    "        optimizer = optimizers.Adam(learning_rate=0.001)\n",
    "        optimizer.apply_gradients(zip(gradients, model.trainable_variables))\n",
    "\n",
    "    # Validation loop\n",
    "    accuracy = tf.metrics.CategoricalAccuracy()\n",
    "    for images, labels in val_dataset:\n",
    "        predictions = model(images)\n",
    "        accuracy.update_state(labels, predictions)\n",
    "    val_acc = accuracy.result().numpy()\n",
    "    print(f\"Validation Accuracy: {val_acc}\")\n"
   ]
  },
  {
   "cell_type": "markdown",
   "id": "a663d769-8a5f-4f03-95d5-9fe59fc48e70",
   "metadata": {},
   "source": [
    "### Evaluate the model performance on test set"
   ]
  },
  {
   "cell_type": "code",
   "execution_count": 9,
   "id": "9e0c811e-3c86-429e-8d47-270e62a2c117",
   "metadata": {},
   "outputs": [
    {
     "name": "stdout",
     "output_type": "stream",
     "text": [
      "\u001b[1m313/313\u001b[0m \u001b[32m━━━━━━━━━━━━━━━━━━━━\u001b[0m\u001b[37m\u001b[0m \u001b[1m1s\u001b[0m 3ms/step - accuracy: 0.9723 - loss: 0.5399\n",
      "Test Accuracy: 0.977400004863739\n"
     ]
    }
   ],
   "source": [
    "test_loss, test_accuracy = model.evaluate(x_test, y_test)\n",
    "print(f\"Test Accuracy: {test_accuracy}\")"
   ]
  },
  {
   "cell_type": "code",
   "execution_count": null,
   "id": "f9bd4d47-4f84-43b7-849b-9079415989c7",
   "metadata": {},
   "outputs": [],
   "source": []
  }
 ],
 "metadata": {
  "kernelspec": {
   "display_name": "Python 3 (ipykernel)",
   "language": "python",
   "name": "python3"
  },
  "language_info": {
   "codemirror_mode": {
    "name": "ipython",
    "version": 3
   },
   "file_extension": ".py",
   "mimetype": "text/x-python",
   "name": "python",
   "nbconvert_exporter": "python",
   "pygments_lexer": "ipython3",
   "version": "3.11.7"
  }
 },
 "nbformat": 4,
 "nbformat_minor": 5
}
